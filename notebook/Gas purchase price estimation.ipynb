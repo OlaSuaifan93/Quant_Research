{
 "cells": [
  {
   "cell_type": "code",
   "execution_count": 1,
   "id": "0934fa82",
   "metadata": {},
   "outputs": [],
   "source": [
    "import numpy as np\n",
    "import pandas as pd\n"
   ]
  },
  {
   "cell_type": "code",
   "execution_count": 2,
   "id": "a5f1bddf",
   "metadata": {},
   "outputs": [
    {
     "data": {
      "text/html": [
       "<div>\n",
       "<style scoped>\n",
       "    .dataframe tbody tr th:only-of-type {\n",
       "        vertical-align: middle;\n",
       "    }\n",
       "\n",
       "    .dataframe tbody tr th {\n",
       "        vertical-align: top;\n",
       "    }\n",
       "\n",
       "    .dataframe thead th {\n",
       "        text-align: right;\n",
       "    }\n",
       "</style>\n",
       "<table border=\"1\" class=\"dataframe\">\n",
       "  <thead>\n",
       "    <tr style=\"text-align: right;\">\n",
       "      <th></th>\n",
       "      <th>Dates</th>\n",
       "      <th>Prices</th>\n",
       "    </tr>\n",
       "  </thead>\n",
       "  <tbody>\n",
       "    <tr>\n",
       "      <th>0</th>\n",
       "      <td>10/31/20</td>\n",
       "      <td>10.1</td>\n",
       "    </tr>\n",
       "    <tr>\n",
       "      <th>1</th>\n",
       "      <td>11/30/20</td>\n",
       "      <td>10.3</td>\n",
       "    </tr>\n",
       "    <tr>\n",
       "      <th>2</th>\n",
       "      <td>12/31/20</td>\n",
       "      <td>11.0</td>\n",
       "    </tr>\n",
       "    <tr>\n",
       "      <th>3</th>\n",
       "      <td>1/31/21</td>\n",
       "      <td>10.9</td>\n",
       "    </tr>\n",
       "    <tr>\n",
       "      <th>4</th>\n",
       "      <td>2/28/21</td>\n",
       "      <td>10.9</td>\n",
       "    </tr>\n",
       "  </tbody>\n",
       "</table>\n",
       "</div>"
      ],
      "text/plain": [
       "      Dates  Prices\n",
       "0  10/31/20    10.1\n",
       "1  11/30/20    10.3\n",
       "2  12/31/20    11.0\n",
       "3   1/31/21    10.9\n",
       "4   2/28/21    10.9"
      ]
     },
     "execution_count": 2,
     "metadata": {},
     "output_type": "execute_result"
    }
   ],
   "source": [
    "df=pd.read_csv('data/Nat_Gas.csv')\n",
    "df.head()"
   ]
  },
  {
   "cell_type": "code",
   "execution_count": 3,
   "id": "74757b23",
   "metadata": {},
   "outputs": [
    {
     "name": "stdout",
     "output_type": "stream",
     "text": [
      "<class 'pandas.core.frame.DataFrame'>\n",
      "RangeIndex: 48 entries, 0 to 47\n",
      "Data columns (total 2 columns):\n",
      " #   Column  Non-Null Count  Dtype  \n",
      "---  ------  --------------  -----  \n",
      " 0   Dates   48 non-null     object \n",
      " 1   Prices  48 non-null     float64\n",
      "dtypes: float64(1), object(1)\n",
      "memory usage: 900.0+ bytes\n"
     ]
    }
   ],
   "source": [
    "df.info()"
   ]
  },
  {
   "cell_type": "code",
   "execution_count": 4,
   "id": "ed55d87b",
   "metadata": {},
   "outputs": [
    {
     "data": {
      "text/html": [
       "<div>\n",
       "<style scoped>\n",
       "    .dataframe tbody tr th:only-of-type {\n",
       "        vertical-align: middle;\n",
       "    }\n",
       "\n",
       "    .dataframe tbody tr th {\n",
       "        vertical-align: top;\n",
       "    }\n",
       "\n",
       "    .dataframe thead th {\n",
       "        text-align: right;\n",
       "    }\n",
       "</style>\n",
       "<table border=\"1\" class=\"dataframe\">\n",
       "  <thead>\n",
       "    <tr style=\"text-align: right;\">\n",
       "      <th></th>\n",
       "      <th>Prices</th>\n",
       "    </tr>\n",
       "  </thead>\n",
       "  <tbody>\n",
       "    <tr>\n",
       "      <th>count</th>\n",
       "      <td>48.000000</td>\n",
       "    </tr>\n",
       "    <tr>\n",
       "      <th>mean</th>\n",
       "      <td>11.207083</td>\n",
       "    </tr>\n",
       "    <tr>\n",
       "      <th>std</th>\n",
       "      <td>0.757897</td>\n",
       "    </tr>\n",
       "    <tr>\n",
       "      <th>min</th>\n",
       "      <td>9.840000</td>\n",
       "    </tr>\n",
       "    <tr>\n",
       "      <th>25%</th>\n",
       "      <td>10.650000</td>\n",
       "    </tr>\n",
       "    <tr>\n",
       "      <th>50%</th>\n",
       "      <td>11.300000</td>\n",
       "    </tr>\n",
       "    <tr>\n",
       "      <th>75%</th>\n",
       "      <td>11.625000</td>\n",
       "    </tr>\n",
       "    <tr>\n",
       "      <th>max</th>\n",
       "      <td>12.800000</td>\n",
       "    </tr>\n",
       "  </tbody>\n",
       "</table>\n",
       "</div>"
      ],
      "text/plain": [
       "          Prices\n",
       "count  48.000000\n",
       "mean   11.207083\n",
       "std     0.757897\n",
       "min     9.840000\n",
       "25%    10.650000\n",
       "50%    11.300000\n",
       "75%    11.625000\n",
       "max    12.800000"
      ]
     },
     "execution_count": 4,
     "metadata": {},
     "output_type": "execute_result"
    }
   ],
   "source": [
    "df.describe()"
   ]
  },
  {
   "cell_type": "code",
   "execution_count": 5,
   "id": "81d1aad4",
   "metadata": {},
   "outputs": [
    {
     "name": "stderr",
     "output_type": "stream",
     "text": [
      "/var/folders/vw/wnpxkfbd0td_tthn1f9l3bj00000gp/T/ipykernel_35411/2958409106.py:1: UserWarning: Could not infer format, so each element will be parsed individually, falling back to `dateutil`. To ensure parsing is consistent and as-expected, please specify a format.\n",
      "  df['Dates']=pd.to_datetime(df['Dates'])\n"
     ]
    }
   ],
   "source": [
    "df['Dates']=pd.to_datetime(df['Dates'])"
   ]
  },
  {
   "cell_type": "code",
   "execution_count": 6,
   "id": "192689b9",
   "metadata": {},
   "outputs": [
    {
     "data": {
      "application/vnd.plotly.v1+json": {
       "config": {
        "plotlyServerURL": "https://plot.ly"
       },
       "data": [
        {
         "hovertemplate": "Dates=%{x}<br>Prices=%{y}<extra></extra>",
         "legendgroup": "",
         "line": {
          "color": "#636efa",
          "dash": "solid"
         },
         "marker": {
          "symbol": "circle"
         },
         "mode": "lines",
         "name": "",
         "orientation": "v",
         "showlegend": false,
         "type": "scatter",
         "x": [
          "2020-10-31T00:00:00.000000000",
          "2020-11-30T00:00:00.000000000",
          "2020-12-31T00:00:00.000000000",
          "2021-01-31T00:00:00.000000000",
          "2021-02-28T00:00:00.000000000",
          "2021-03-31T00:00:00.000000000",
          "2021-04-30T00:00:00.000000000",
          "2021-05-31T00:00:00.000000000",
          "2021-06-30T00:00:00.000000000",
          "2021-07-31T00:00:00.000000000",
          "2021-08-31T00:00:00.000000000",
          "2021-09-30T00:00:00.000000000",
          "2021-10-31T00:00:00.000000000",
          "2021-11-30T00:00:00.000000000",
          "2021-12-31T00:00:00.000000000",
          "2022-01-31T00:00:00.000000000",
          "2022-02-28T00:00:00.000000000",
          "2022-03-31T00:00:00.000000000",
          "2022-04-30T00:00:00.000000000",
          "2022-05-31T00:00:00.000000000",
          "2022-06-30T00:00:00.000000000",
          "2022-07-31T00:00:00.000000000",
          "2022-08-31T00:00:00.000000000",
          "2022-09-30T00:00:00.000000000",
          "2022-10-31T00:00:00.000000000",
          "2022-11-30T00:00:00.000000000",
          "2022-12-31T00:00:00.000000000",
          "2023-01-31T00:00:00.000000000",
          "2023-02-28T00:00:00.000000000",
          "2023-03-31T00:00:00.000000000",
          "2023-04-30T00:00:00.000000000",
          "2023-05-31T00:00:00.000000000",
          "2023-06-30T00:00:00.000000000",
          "2023-07-31T00:00:00.000000000",
          "2023-08-31T00:00:00.000000000",
          "2023-09-30T00:00:00.000000000",
          "2023-10-31T00:00:00.000000000",
          "2023-11-30T00:00:00.000000000",
          "2023-12-31T00:00:00.000000000",
          "2024-01-31T00:00:00.000000000",
          "2024-02-29T00:00:00.000000000",
          "2024-03-31T00:00:00.000000000",
          "2024-04-30T00:00:00.000000000",
          "2024-05-31T00:00:00.000000000",
          "2024-06-30T00:00:00.000000000",
          "2024-07-31T00:00:00.000000000",
          "2024-08-31T00:00:00.000000000",
          "2024-09-30T00:00:00.000000000"
         ],
         "xaxis": "x",
         "y": {
          "bdata": "MzMzMzMzJECamZmZmZkkQAAAAAAAACZAzczMzMzMJUDNzMzMzMwlQM3MzMzMzCVAzczMzMzMJECuR+F6FK4jQAAAAAAAACRAMzMzMzMzJECamZmZmZkkQGZmZmZmZiRAMzMzMzMzJEBmZmZmZmYmQM3MzMzMzCZAAAAAAAAAJ0CamZmZmZknQAAAAAAAACdAZmZmZmZmJUBmZmZmZmYlQM3MzMzMzCRAAAAAAAAAJUDNzMzMzMwkQJqZmZmZmSVAAAAAAAAAJkAzMzMzMzMnQDMzMzMzMydAMzMzMzMzKEBmZmZmZmYnQAAAAAAAAChAAAAAAAAAJ0BmZmZmZmYmQM3MzMzMzCVAzczMzMzMJkAzMzMzMzMmQAAAAAAAACdAmpmZmZmZJ0BmZmZmZmYoQJqZmZmZmSlAMzMzMzMzKUDNzMzMzMwoQGZmZmZmZilAMzMzMzMzKEDNzMzMzMwmQAAAAAAAACdAMzMzMzMzJ0AAAAAAAAAnQJqZmZmZmSdA",
          "dtype": "f8"
         },
         "yaxis": "y"
        }
       ],
       "layout": {
        "legend": {
         "tracegroupgap": 0
        },
        "template": {
         "data": {
          "bar": [
           {
            "error_x": {
             "color": "#2a3f5f"
            },
            "error_y": {
             "color": "#2a3f5f"
            },
            "marker": {
             "line": {
              "color": "#E5ECF6",
              "width": 0.5
             },
             "pattern": {
              "fillmode": "overlay",
              "size": 10,
              "solidity": 0.2
             }
            },
            "type": "bar"
           }
          ],
          "barpolar": [
           {
            "marker": {
             "line": {
              "color": "#E5ECF6",
              "width": 0.5
             },
             "pattern": {
              "fillmode": "overlay",
              "size": 10,
              "solidity": 0.2
             }
            },
            "type": "barpolar"
           }
          ],
          "carpet": [
           {
            "aaxis": {
             "endlinecolor": "#2a3f5f",
             "gridcolor": "white",
             "linecolor": "white",
             "minorgridcolor": "white",
             "startlinecolor": "#2a3f5f"
            },
            "baxis": {
             "endlinecolor": "#2a3f5f",
             "gridcolor": "white",
             "linecolor": "white",
             "minorgridcolor": "white",
             "startlinecolor": "#2a3f5f"
            },
            "type": "carpet"
           }
          ],
          "choropleth": [
           {
            "colorbar": {
             "outlinewidth": 0,
             "ticks": ""
            },
            "type": "choropleth"
           }
          ],
          "contour": [
           {
            "colorbar": {
             "outlinewidth": 0,
             "ticks": ""
            },
            "colorscale": [
             [
              0,
              "#0d0887"
             ],
             [
              0.1111111111111111,
              "#46039f"
             ],
             [
              0.2222222222222222,
              "#7201a8"
             ],
             [
              0.3333333333333333,
              "#9c179e"
             ],
             [
              0.4444444444444444,
              "#bd3786"
             ],
             [
              0.5555555555555556,
              "#d8576b"
             ],
             [
              0.6666666666666666,
              "#ed7953"
             ],
             [
              0.7777777777777778,
              "#fb9f3a"
             ],
             [
              0.8888888888888888,
              "#fdca26"
             ],
             [
              1,
              "#f0f921"
             ]
            ],
            "type": "contour"
           }
          ],
          "contourcarpet": [
           {
            "colorbar": {
             "outlinewidth": 0,
             "ticks": ""
            },
            "type": "contourcarpet"
           }
          ],
          "heatmap": [
           {
            "colorbar": {
             "outlinewidth": 0,
             "ticks": ""
            },
            "colorscale": [
             [
              0,
              "#0d0887"
             ],
             [
              0.1111111111111111,
              "#46039f"
             ],
             [
              0.2222222222222222,
              "#7201a8"
             ],
             [
              0.3333333333333333,
              "#9c179e"
             ],
             [
              0.4444444444444444,
              "#bd3786"
             ],
             [
              0.5555555555555556,
              "#d8576b"
             ],
             [
              0.6666666666666666,
              "#ed7953"
             ],
             [
              0.7777777777777778,
              "#fb9f3a"
             ],
             [
              0.8888888888888888,
              "#fdca26"
             ],
             [
              1,
              "#f0f921"
             ]
            ],
            "type": "heatmap"
           }
          ],
          "histogram": [
           {
            "marker": {
             "pattern": {
              "fillmode": "overlay",
              "size": 10,
              "solidity": 0.2
             }
            },
            "type": "histogram"
           }
          ],
          "histogram2d": [
           {
            "colorbar": {
             "outlinewidth": 0,
             "ticks": ""
            },
            "colorscale": [
             [
              0,
              "#0d0887"
             ],
             [
              0.1111111111111111,
              "#46039f"
             ],
             [
              0.2222222222222222,
              "#7201a8"
             ],
             [
              0.3333333333333333,
              "#9c179e"
             ],
             [
              0.4444444444444444,
              "#bd3786"
             ],
             [
              0.5555555555555556,
              "#d8576b"
             ],
             [
              0.6666666666666666,
              "#ed7953"
             ],
             [
              0.7777777777777778,
              "#fb9f3a"
             ],
             [
              0.8888888888888888,
              "#fdca26"
             ],
             [
              1,
              "#f0f921"
             ]
            ],
            "type": "histogram2d"
           }
          ],
          "histogram2dcontour": [
           {
            "colorbar": {
             "outlinewidth": 0,
             "ticks": ""
            },
            "colorscale": [
             [
              0,
              "#0d0887"
             ],
             [
              0.1111111111111111,
              "#46039f"
             ],
             [
              0.2222222222222222,
              "#7201a8"
             ],
             [
              0.3333333333333333,
              "#9c179e"
             ],
             [
              0.4444444444444444,
              "#bd3786"
             ],
             [
              0.5555555555555556,
              "#d8576b"
             ],
             [
              0.6666666666666666,
              "#ed7953"
             ],
             [
              0.7777777777777778,
              "#fb9f3a"
             ],
             [
              0.8888888888888888,
              "#fdca26"
             ],
             [
              1,
              "#f0f921"
             ]
            ],
            "type": "histogram2dcontour"
           }
          ],
          "mesh3d": [
           {
            "colorbar": {
             "outlinewidth": 0,
             "ticks": ""
            },
            "type": "mesh3d"
           }
          ],
          "parcoords": [
           {
            "line": {
             "colorbar": {
              "outlinewidth": 0,
              "ticks": ""
             }
            },
            "type": "parcoords"
           }
          ],
          "pie": [
           {
            "automargin": true,
            "type": "pie"
           }
          ],
          "scatter": [
           {
            "fillpattern": {
             "fillmode": "overlay",
             "size": 10,
             "solidity": 0.2
            },
            "type": "scatter"
           }
          ],
          "scatter3d": [
           {
            "line": {
             "colorbar": {
              "outlinewidth": 0,
              "ticks": ""
             }
            },
            "marker": {
             "colorbar": {
              "outlinewidth": 0,
              "ticks": ""
             }
            },
            "type": "scatter3d"
           }
          ],
          "scattercarpet": [
           {
            "marker": {
             "colorbar": {
              "outlinewidth": 0,
              "ticks": ""
             }
            },
            "type": "scattercarpet"
           }
          ],
          "scattergeo": [
           {
            "marker": {
             "colorbar": {
              "outlinewidth": 0,
              "ticks": ""
             }
            },
            "type": "scattergeo"
           }
          ],
          "scattergl": [
           {
            "marker": {
             "colorbar": {
              "outlinewidth": 0,
              "ticks": ""
             }
            },
            "type": "scattergl"
           }
          ],
          "scattermap": [
           {
            "marker": {
             "colorbar": {
              "outlinewidth": 0,
              "ticks": ""
             }
            },
            "type": "scattermap"
           }
          ],
          "scattermapbox": [
           {
            "marker": {
             "colorbar": {
              "outlinewidth": 0,
              "ticks": ""
             }
            },
            "type": "scattermapbox"
           }
          ],
          "scatterpolar": [
           {
            "marker": {
             "colorbar": {
              "outlinewidth": 0,
              "ticks": ""
             }
            },
            "type": "scatterpolar"
           }
          ],
          "scatterpolargl": [
           {
            "marker": {
             "colorbar": {
              "outlinewidth": 0,
              "ticks": ""
             }
            },
            "type": "scatterpolargl"
           }
          ],
          "scatterternary": [
           {
            "marker": {
             "colorbar": {
              "outlinewidth": 0,
              "ticks": ""
             }
            },
            "type": "scatterternary"
           }
          ],
          "surface": [
           {
            "colorbar": {
             "outlinewidth": 0,
             "ticks": ""
            },
            "colorscale": [
             [
              0,
              "#0d0887"
             ],
             [
              0.1111111111111111,
              "#46039f"
             ],
             [
              0.2222222222222222,
              "#7201a8"
             ],
             [
              0.3333333333333333,
              "#9c179e"
             ],
             [
              0.4444444444444444,
              "#bd3786"
             ],
             [
              0.5555555555555556,
              "#d8576b"
             ],
             [
              0.6666666666666666,
              "#ed7953"
             ],
             [
              0.7777777777777778,
              "#fb9f3a"
             ],
             [
              0.8888888888888888,
              "#fdca26"
             ],
             [
              1,
              "#f0f921"
             ]
            ],
            "type": "surface"
           }
          ],
          "table": [
           {
            "cells": {
             "fill": {
              "color": "#EBF0F8"
             },
             "line": {
              "color": "white"
             }
            },
            "header": {
             "fill": {
              "color": "#C8D4E3"
             },
             "line": {
              "color": "white"
             }
            },
            "type": "table"
           }
          ]
         },
         "layout": {
          "annotationdefaults": {
           "arrowcolor": "#2a3f5f",
           "arrowhead": 0,
           "arrowwidth": 1
          },
          "autotypenumbers": "strict",
          "coloraxis": {
           "colorbar": {
            "outlinewidth": 0,
            "ticks": ""
           }
          },
          "colorscale": {
           "diverging": [
            [
             0,
             "#8e0152"
            ],
            [
             0.1,
             "#c51b7d"
            ],
            [
             0.2,
             "#de77ae"
            ],
            [
             0.3,
             "#f1b6da"
            ],
            [
             0.4,
             "#fde0ef"
            ],
            [
             0.5,
             "#f7f7f7"
            ],
            [
             0.6,
             "#e6f5d0"
            ],
            [
             0.7,
             "#b8e186"
            ],
            [
             0.8,
             "#7fbc41"
            ],
            [
             0.9,
             "#4d9221"
            ],
            [
             1,
             "#276419"
            ]
           ],
           "sequential": [
            [
             0,
             "#0d0887"
            ],
            [
             0.1111111111111111,
             "#46039f"
            ],
            [
             0.2222222222222222,
             "#7201a8"
            ],
            [
             0.3333333333333333,
             "#9c179e"
            ],
            [
             0.4444444444444444,
             "#bd3786"
            ],
            [
             0.5555555555555556,
             "#d8576b"
            ],
            [
             0.6666666666666666,
             "#ed7953"
            ],
            [
             0.7777777777777778,
             "#fb9f3a"
            ],
            [
             0.8888888888888888,
             "#fdca26"
            ],
            [
             1,
             "#f0f921"
            ]
           ],
           "sequentialminus": [
            [
             0,
             "#0d0887"
            ],
            [
             0.1111111111111111,
             "#46039f"
            ],
            [
             0.2222222222222222,
             "#7201a8"
            ],
            [
             0.3333333333333333,
             "#9c179e"
            ],
            [
             0.4444444444444444,
             "#bd3786"
            ],
            [
             0.5555555555555556,
             "#d8576b"
            ],
            [
             0.6666666666666666,
             "#ed7953"
            ],
            [
             0.7777777777777778,
             "#fb9f3a"
            ],
            [
             0.8888888888888888,
             "#fdca26"
            ],
            [
             1,
             "#f0f921"
            ]
           ]
          },
          "colorway": [
           "#636efa",
           "#EF553B",
           "#00cc96",
           "#ab63fa",
           "#FFA15A",
           "#19d3f3",
           "#FF6692",
           "#B6E880",
           "#FF97FF",
           "#FECB52"
          ],
          "font": {
           "color": "#2a3f5f"
          },
          "geo": {
           "bgcolor": "white",
           "lakecolor": "white",
           "landcolor": "#E5ECF6",
           "showlakes": true,
           "showland": true,
           "subunitcolor": "white"
          },
          "hoverlabel": {
           "align": "left"
          },
          "hovermode": "closest",
          "mapbox": {
           "style": "light"
          },
          "paper_bgcolor": "white",
          "plot_bgcolor": "#E5ECF6",
          "polar": {
           "angularaxis": {
            "gridcolor": "white",
            "linecolor": "white",
            "ticks": ""
           },
           "bgcolor": "#E5ECF6",
           "radialaxis": {
            "gridcolor": "white",
            "linecolor": "white",
            "ticks": ""
           }
          },
          "scene": {
           "xaxis": {
            "backgroundcolor": "#E5ECF6",
            "gridcolor": "white",
            "gridwidth": 2,
            "linecolor": "white",
            "showbackground": true,
            "ticks": "",
            "zerolinecolor": "white"
           },
           "yaxis": {
            "backgroundcolor": "#E5ECF6",
            "gridcolor": "white",
            "gridwidth": 2,
            "linecolor": "white",
            "showbackground": true,
            "ticks": "",
            "zerolinecolor": "white"
           },
           "zaxis": {
            "backgroundcolor": "#E5ECF6",
            "gridcolor": "white",
            "gridwidth": 2,
            "linecolor": "white",
            "showbackground": true,
            "ticks": "",
            "zerolinecolor": "white"
           }
          },
          "shapedefaults": {
           "line": {
            "color": "#2a3f5f"
           }
          },
          "ternary": {
           "aaxis": {
            "gridcolor": "white",
            "linecolor": "white",
            "ticks": ""
           },
           "baxis": {
            "gridcolor": "white",
            "linecolor": "white",
            "ticks": ""
           },
           "bgcolor": "#E5ECF6",
           "caxis": {
            "gridcolor": "white",
            "linecolor": "white",
            "ticks": ""
           }
          },
          "title": {
           "x": 0.05
          },
          "xaxis": {
           "automargin": true,
           "gridcolor": "white",
           "linecolor": "white",
           "ticks": "",
           "title": {
            "standoff": 15
           },
           "zerolinecolor": "white",
           "zerolinewidth": 2
          },
          "yaxis": {
           "automargin": true,
           "gridcolor": "white",
           "linecolor": "white",
           "ticks": "",
           "title": {
            "standoff": 15
           },
           "zerolinecolor": "white",
           "zerolinewidth": 2
          }
         }
        },
        "title": {
         "text": "Natural Gas Prices"
        },
        "xaxis": {
         "anchor": "y",
         "domain": [
          0,
          1
         ],
         "title": {
          "text": "Dates"
         }
        },
        "yaxis": {
         "anchor": "x",
         "domain": [
          0,
          1
         ],
         "title": {
          "text": "Prices"
         }
        }
       }
      }
     },
     "metadata": {},
     "output_type": "display_data"
    }
   ],
   "source": [
    "import plotly.express as px\n",
    "\n",
    "fig=px.line(df,x='Dates',y='Prices',title='Natural Gas Prices')\n",
    "fig.show()"
   ]
  },
  {
   "cell_type": "code",
   "execution_count": 7,
   "id": "4d41ecd1",
   "metadata": {},
   "outputs": [
    {
     "data": {
      "image/png": "[encoded data removed]",
      "text/plain": [
       "<Figure size 1200x600 with 1 Axes>"
      ]
     },
     "metadata": {},
     "output_type": "display_data"
    }
   ],
   "source": [
    "import matplotlib.pyplot as plt\n",
    "\n",
    "m = 12  # number of months in a year (since your data is monthly)\n",
    "plt.figure(figsize=(12,6))\n",
    "\n",
    "# First cycle: 2020-10-31 to 2021-09-30\n",
    "plt.plot(df['Dates'][:m], df['Prices'][:m], label='First cycle')\n",
    "# Second cycle: 2021-10-31 to 2022-09-30\n",
    "plt.plot(df['Dates'][m:2*m], df['Prices'][m:2*m], label='Second cycle')\n",
    "# Third cycle: 2022-10-31 to 2023-09-30\n",
    "plt.plot(df['Dates'][2*m:3*m], df['Prices'][2*m:3*m], label='Third cycle')\n",
    "plt.legend()\n",
    "plt.title(\"Comparing Seasonal Cycles\")\n",
    "plt.xlabel(\"Date\")\n",
    "plt.ylabel(\"Price\")\n",
    "plt.show()\n"
   ]
  },
  {
   "cell_type": "markdown",
   "id": "98be18e2",
   "metadata": {},
   "source": [
    "i can see that there is a seasonality where the prices go up in december, january, feb and march and it starts going down where there is also a repetitive behavior where it goes to the minimum in may, jun, july and august and then starts to go up again\n",
    "\n",
    "i also notice an upward trend on the whole timeline where the prices are actually going up within the four years. \n"
   ]
  },
  {
   "cell_type": "code",
   "execution_count": 8,
   "id": "2ff5e9d9",
   "metadata": {},
   "outputs": [
    {
     "data": {
      "text/html": [
       "<div>\n",
       "<style scoped>\n",
       "    .dataframe tbody tr th:only-of-type {\n",
       "        vertical-align: middle;\n",
       "    }\n",
       "\n",
       "    .dataframe tbody tr th {\n",
       "        vertical-align: top;\n",
       "    }\n",
       "\n",
       "    .dataframe thead th {\n",
       "        text-align: right;\n",
       "    }\n",
       "</style>\n",
       "<table border=\"1\" class=\"dataframe\">\n",
       "  <thead>\n",
       "    <tr style=\"text-align: right;\">\n",
       "      <th></th>\n",
       "      <th>Dates</th>\n",
       "      <th>Prices</th>\n",
       "    </tr>\n",
       "  </thead>\n",
       "  <tbody>\n",
       "    <tr>\n",
       "      <th>count</th>\n",
       "      <td>15</td>\n",
       "      <td>15.000000</td>\n",
       "    </tr>\n",
       "    <tr>\n",
       "      <th>mean</th>\n",
       "      <td>2021-05-31 09:36:00</td>\n",
       "      <td>10.509333</td>\n",
       "    </tr>\n",
       "    <tr>\n",
       "      <th>min</th>\n",
       "      <td>2020-10-31 00:00:00</td>\n",
       "      <td>9.840000</td>\n",
       "    </tr>\n",
       "    <tr>\n",
       "      <th>25%</th>\n",
       "      <td>2021-02-14 00:00:00</td>\n",
       "      <td>10.100000</td>\n",
       "    </tr>\n",
       "    <tr>\n",
       "      <th>50%</th>\n",
       "      <td>2021-05-31 00:00:00</td>\n",
       "      <td>10.300000</td>\n",
       "    </tr>\n",
       "    <tr>\n",
       "      <th>75%</th>\n",
       "      <td>2021-09-15 00:00:00</td>\n",
       "      <td>10.900000</td>\n",
       "    </tr>\n",
       "    <tr>\n",
       "      <th>max</th>\n",
       "      <td>2021-12-31 00:00:00</td>\n",
       "      <td>11.400000</td>\n",
       "    </tr>\n",
       "    <tr>\n",
       "      <th>std</th>\n",
       "      <td>NaN</td>\n",
       "      <td>0.490939</td>\n",
       "    </tr>\n",
       "  </tbody>\n",
       "</table>\n",
       "</div>"
      ],
      "text/plain": [
       "                     Dates     Prices\n",
       "count                   15  15.000000\n",
       "mean   2021-05-31 09:36:00  10.509333\n",
       "min    2020-10-31 00:00:00   9.840000\n",
       "25%    2021-02-14 00:00:00  10.100000\n",
       "50%    2021-05-31 00:00:00  10.300000\n",
       "75%    2021-09-15 00:00:00  10.900000\n",
       "max    2021-12-31 00:00:00  11.400000\n",
       "std                    NaN   0.490939"
      ]
     },
     "execution_count": 8,
     "metadata": {},
     "output_type": "execute_result"
    }
   ],
   "source": [
    "# Select the first 12 months (assuming monthly data) and describe the Prices\n",
    "first_year_prices = df[df['Dates'] < '2022-01-01']\n",
    "first_year_prices.describe()"
   ]
  },
  {
   "cell_type": "code",
   "execution_count": 9,
   "id": "bcde9af4",
   "metadata": {},
   "outputs": [
    {
     "data": {
      "text/html": [
       "<div>\n",
       "<style scoped>\n",
       "    .dataframe tbody tr th:only-of-type {\n",
       "        vertical-align: middle;\n",
       "    }\n",
       "\n",
       "    .dataframe tbody tr th {\n",
       "        vertical-align: top;\n",
       "    }\n",
       "\n",
       "    .dataframe thead th {\n",
       "        text-align: right;\n",
       "    }\n",
       "</style>\n",
       "<table border=\"1\" class=\"dataframe\">\n",
       "  <thead>\n",
       "    <tr style=\"text-align: right;\">\n",
       "      <th></th>\n",
       "      <th>Dates</th>\n",
       "      <th>Prices</th>\n",
       "    </tr>\n",
       "  </thead>\n",
       "  <tbody>\n",
       "    <tr>\n",
       "      <th>count</th>\n",
       "      <td>9</td>\n",
       "      <td>9.000000</td>\n",
       "    </tr>\n",
       "    <tr>\n",
       "      <th>mean</th>\n",
       "      <td>2024-05-31 00:00:00</td>\n",
       "      <td>11.955556</td>\n",
       "    </tr>\n",
       "    <tr>\n",
       "      <th>min</th>\n",
       "      <td>2024-01-31 00:00:00</td>\n",
       "      <td>11.400000</td>\n",
       "    </tr>\n",
       "    <tr>\n",
       "      <th>25%</th>\n",
       "      <td>2024-03-31 00:00:00</td>\n",
       "      <td>11.500000</td>\n",
       "    </tr>\n",
       "    <tr>\n",
       "      <th>50%</th>\n",
       "      <td>2024-05-31 00:00:00</td>\n",
       "      <td>11.800000</td>\n",
       "    </tr>\n",
       "    <tr>\n",
       "      <th>75%</th>\n",
       "      <td>2024-07-31 00:00:00</td>\n",
       "      <td>12.400000</td>\n",
       "    </tr>\n",
       "    <tr>\n",
       "      <th>max</th>\n",
       "      <td>2024-09-30 00:00:00</td>\n",
       "      <td>12.700000</td>\n",
       "    </tr>\n",
       "    <tr>\n",
       "      <th>std</th>\n",
       "      <td>NaN</td>\n",
       "      <td>0.507718</td>\n",
       "    </tr>\n",
       "  </tbody>\n",
       "</table>\n",
       "</div>"
      ],
      "text/plain": [
       "                     Dates     Prices\n",
       "count                    9   9.000000\n",
       "mean   2024-05-31 00:00:00  11.955556\n",
       "min    2024-01-31 00:00:00  11.400000\n",
       "25%    2024-03-31 00:00:00  11.500000\n",
       "50%    2024-05-31 00:00:00  11.800000\n",
       "75%    2024-07-31 00:00:00  12.400000\n",
       "max    2024-09-30 00:00:00  12.700000\n",
       "std                    NaN   0.507718"
      ]
     },
     "execution_count": 9,
     "metadata": {},
     "output_type": "execute_result"
    }
   ],
   "source": [
    "last_year_prices = df[df['Dates'] >= '2024-01-01']\n",
    "last_year_prices.describe()"
   ]
  },
  {
   "cell_type": "markdown",
   "id": "93b76c7f",
   "metadata": {},
   "source": [
    "# Natural Gas purchase price estimation"
   ]
  },
  {
   "cell_type": "markdown",
   "id": "c2d43cf8",
   "metadata": {},
   "source": [
    "1- set date as index for time series interpolation \n",
    "\n"
   ]
  },
  {
   "cell_type": "code",
   "execution_count": 10,
   "id": "3adef4dd",
   "metadata": {},
   "outputs": [],
   "source": [
    "df.set_index('Dates',inplace=True)\n"
   ]
  },
  {
   "cell_type": "markdown",
   "id": "9e647f10",
   "metadata": {},
   "source": [
    "2- Interpolating the price data for any missing date between the given monthly prices \n"
   ]
  },
  {
   "cell_type": "code",
   "execution_count": 11,
   "id": "47f44889",
   "metadata": {},
   "outputs": [],
   "source": [
    "df_interpolated=df.resample('D').interpolate('linear')"
   ]
  },
  {
   "cell_type": "code",
   "execution_count": 12,
   "id": "f7ec27eb",
   "metadata": {},
   "outputs": [
    {
     "data": {
      "text/html": [
       "<div>\n",
       "<style scoped>\n",
       "    .dataframe tbody tr th:only-of-type {\n",
       "        vertical-align: middle;\n",
       "    }\n",
       "\n",
       "    .dataframe tbody tr th {\n",
       "        vertical-align: top;\n",
       "    }\n",
       "\n",
       "    .dataframe thead th {\n",
       "        text-align: right;\n",
       "    }\n",
       "</style>\n",
       "<table border=\"1\" class=\"dataframe\">\n",
       "  <thead>\n",
       "    <tr style=\"text-align: right;\">\n",
       "      <th></th>\n",
       "      <th>Prices</th>\n",
       "    </tr>\n",
       "    <tr>\n",
       "      <th>Dates</th>\n",
       "      <th></th>\n",
       "    </tr>\n",
       "  </thead>\n",
       "  <tbody>\n",
       "    <tr>\n",
       "      <th>2020-10-31</th>\n",
       "      <td>10.100000</td>\n",
       "    </tr>\n",
       "    <tr>\n",
       "      <th>2020-11-01</th>\n",
       "      <td>10.106667</td>\n",
       "    </tr>\n",
       "    <tr>\n",
       "      <th>2020-11-02</th>\n",
       "      <td>10.113333</td>\n",
       "    </tr>\n",
       "    <tr>\n",
       "      <th>2020-11-03</th>\n",
       "      <td>10.120000</td>\n",
       "    </tr>\n",
       "    <tr>\n",
       "      <th>2020-11-04</th>\n",
       "      <td>10.126667</td>\n",
       "    </tr>\n",
       "    <tr>\n",
       "      <th>...</th>\n",
       "      <td>...</td>\n",
       "    </tr>\n",
       "    <tr>\n",
       "      <th>2024-09-26</th>\n",
       "      <td>11.760000</td>\n",
       "    </tr>\n",
       "    <tr>\n",
       "      <th>2024-09-27</th>\n",
       "      <td>11.770000</td>\n",
       "    </tr>\n",
       "    <tr>\n",
       "      <th>2024-09-28</th>\n",
       "      <td>11.780000</td>\n",
       "    </tr>\n",
       "    <tr>\n",
       "      <th>2024-09-29</th>\n",
       "      <td>11.790000</td>\n",
       "    </tr>\n",
       "    <tr>\n",
       "      <th>2024-09-30</th>\n",
       "      <td>11.800000</td>\n",
       "    </tr>\n",
       "  </tbody>\n",
       "</table>\n",
       "<p>1431 rows × 1 columns</p>\n",
       "</div>"
      ],
      "text/plain": [
       "               Prices\n",
       "Dates                \n",
       "2020-10-31  10.100000\n",
       "2020-11-01  10.106667\n",
       "2020-11-02  10.113333\n",
       "2020-11-03  10.120000\n",
       "2020-11-04  10.126667\n",
       "...               ...\n",
       "2024-09-26  11.760000\n",
       "2024-09-27  11.770000\n",
       "2024-09-28  11.780000\n",
       "2024-09-29  11.790000\n",
       "2024-09-30  11.800000\n",
       "\n",
       "[1431 rows x 1 columns]"
      ]
     },
     "execution_count": 12,
     "metadata": {},
     "output_type": "execute_result"
    }
   ],
   "source": [
    "df_interpolated"
   ]
  },
  {
   "cell_type": "markdown",
   "id": "d58add15",
   "metadata": {},
   "source": [
    "# Extrapolate future prices using a simple time series model "
   ]
  },
  {
   "cell_type": "code",
   "execution_count": null,
   "id": "da2bf193",
   "metadata": {},
   "outputs": [],
   "source": []
  },
  {
   "cell_type": "code",
   "execution_count": null,
   "id": "2f5a9069",
   "metadata": {},
   "outputs": [],
   "source": []
  },
  {
   "cell_type": "code",
   "execution_count": null,
   "id": "2f2d03a9",
   "metadata": {},
   "outputs": [],
   "source": []
  },
  {
   "cell_type": "code",
   "execution_count": 13,
   "id": "0a29013f",
   "metadata": {},
   "outputs": [],
   "source": [
    "train_data=df_interpolated[:'2023-12-31']\n",
    "test_data=df_interpolated['2024-01-01':]\n"
   ]
  },
  {
   "cell_type": "code",
   "execution_count": 14,
   "id": "03477767",
   "metadata": {},
   "outputs": [
    {
     "ename": "NameError",
     "evalue": "name 'predicted_data' is not defined",
     "output_type": "error",
     "traceback": [
      "\u001b[31m---------------------------------------------------------------------------\u001b[39m",
      "\u001b[31mNameError\u001b[39m                                 Traceback (most recent call last)",
      "\u001b[36mCell\u001b[39m\u001b[36m \u001b[39m\u001b[32mIn[14]\u001b[39m\u001b[32m, line 2\u001b[39m\n\u001b[32m      1\u001b[39m \u001b[38;5;28;01mfrom\u001b[39;00m\u001b[38;5;250m \u001b[39m\u001b[34;01msklearn\u001b[39;00m\u001b[34;01m.\u001b[39;00m\u001b[34;01mmetrics\u001b[39;00m\u001b[38;5;250m \u001b[39m\u001b[38;5;28;01mimport\u001b[39;00m mean_absolute_error, mean_squared_error, r2_score, mean_absolute_percentage_error\n\u001b[32m----> \u001b[39m\u001b[32m2\u001b[39m mae=mean_absolute_error(test_data[\u001b[33m'\u001b[39m\u001b[33mPrices\u001b[39m\u001b[33m'\u001b[39m],\u001b[43mpredicted_data\u001b[49m[\u001b[33m'\u001b[39m\u001b[33mPredicted_Prices\u001b[39m\u001b[33m'\u001b[39m])\n\u001b[32m      3\u001b[39m mse=mean_squared_error(test_data[\u001b[33m'\u001b[39m\u001b[33mPrices\u001b[39m\u001b[33m'\u001b[39m],predicted_data[\u001b[33m'\u001b[39m\u001b[33mPredicted_Prices\u001b[39m\u001b[33m'\u001b[39m])\n\u001b[32m      4\u001b[39m rmse=np.sqrt(mse)\n",
      "\u001b[31mNameError\u001b[39m: name 'predicted_data' is not defined"
     ]
    }
   ],
   "source": [
    "from sklearn.metrics import mean_absolute_error, mean_squared_error, r2_score, mean_absolute_percentage_error\n",
    "mae=mean_absolute_error(test_data['Prices'],predicted_data['Predicted_Prices'])\n",
    "mse=mean_squared_error(test_data['Prices'],predicted_data['Predicted_Prices'])\n",
    "rmse=np.sqrt(mse)\n",
    "r2=r2_score(test_data['Prices'],predicted_data['Predicted_Prices'])\n",
    "mape=mean_absolute_percentage_error(test_data['Prices'],predicted_data['Predicted_Prices'])\n",
    "print(f\"MAE: {mae}, MSE: {mse}, RMSE: {rmse}, R2: {r2}, MAPE: {mape}\")"
   ]
  },
  {
   "cell_type": "code",
   "execution_count": 26,
   "id": "7485d731",
   "metadata": {},
   "outputs": [
    {
     "data": {
      "application/vnd.plotly.v1+json": {
       "config": {
        "plotlyServerURL": "https://plot.ly"
       },
       "data": [
        {
         "mode": "lines",
         "name": "Actual Prices",
         "type": "scatter",
         "x": [
          "2024-01-01T00:00:00.000000000",
          "2024-01-02T00:00:00.000000000",
          "2024-01-03T00:00:00.000000000",
          "2024-01-04T00:00:00.000000000",
          "2024-01-05T00:00:00.000000000",
          "2024-01-06T00:00:00.000000000",
          "2024-01-07T00:00:00.000000000",
          "2024-01-08T00:00:00.000000000",
          "2024-01-09T00:00:00.000000000",
          "2024-01-10T00:00:00.000000000",
          "2024-01-11T00:00:00.000000000",
          "2024-01-12T00:00:00.000000000",
          "2024-01-13T00:00:00.000000000",
          "2024-01-14T00:00:00.000000000",
          "2024-01-15T00:00:00.000000000",
          "2024-01-16T00:00:00.000000000",
          "2024-01-17T00:00:00.000000000",
          "2024-01-18T00:00:00.000000000",
          "2024-01-19T00:00:00.000000000",
          "2024-01-20T00:00:00.000000000",
          "2024-01-21T00:00:00.000000000",
          "2024-01-22T00:00:00.000000000",
          "2024-01-23T00:00:00.000000000",
          "2024-01-24T00:00:00.000000000",
          "2024-01-25T00:00:00.000000000",
          "2024-01-26T00:00:00.000000000",
          "2024-01-27T00:00:00.000000000",
          "2024-01-28T00:00:00.000000000",
          "2024-01-29T00:00:00.000000000",
          "2024-01-30T00:00:00.000000000",
          "2024-01-31T00:00:00.000000000",
          "2024-02-01T00:00:00.000000000",
          "2024-02-02T00:00:00.000000000",
          "2024-02-03T00:00:00.000000000",
          "2024-02-04T00:00:00.000000000",
          "2024-02-05T00:00:00.000000000",
          "2024-02-06T00:00:00.000000000",
          "2024-02-07T00:00:00.000000000",
          "2024-02-08T00:00:00.000000000",
          "2024-02-09T00:00:00.000000000",
          "2024-02-10T00:00:00.000000000",
          "2024-02-11T00:00:00.000000000",
          "2024-02-12T00:00:00.000000000",
          "2024-02-13T00:00:00.000000000",
          "2024-02-14T00:00:00.000000000",
          "2024-02-15T00:00:00.000000000",
          "2024-02-16T00:00:00.000000000",
          "2024-02-17T00:00:00.000000000",
          "2024-02-18T00:00:00.000000000",
          "2024-02-19T00:00:00.000000000",
          "2024-02-20T00:00:00.000000000",
          "2024-02-21T00:00:00.000000000",
          "2024-02-22T00:00:00.000000000",
          "2024-02-23T00:00:00.000000000",
          "2024-02-24T00:00:00.000000000",
          "2024-02-25T00:00:00.000000000",
          "2024-02-26T00:00:00.000000000",
          "2024-02-27T00:00:00.000000000",
          "2024-02-28T00:00:00.000000000",
          "2024-02-29T00:00:00.000000000",
          "2024-03-01T00:00:00.000000000",
          "2024-03-02T00:00:00.000000000",
          "2024-03-03T00:00:00.000000000",
          "2024-03-04T00:00:00.000000000",
          "2024-03-05T00:00:00.000000000",
          "2024-03-06T00:00:00.000000000",
          "2024-03-07T00:00:00.000000000",
          "2024-03-08T00:00:00.000000000",
          "2024-03-09T00:00:00.000000000",
          "2024-03-10T00:00:00.000000000",
          "2024-03-11T00:00:00.000000000",
          "2024-03-12T00:00:00.000000000",
          "2024-03-13T00:00:00.000000000",
          "2024-03-14T00:00:00.000000000",
          "2024-03-15T00:00:00.000000000",
          "2024-03-16T00:00:00.000000000",
          "2024-03-17T00:00:00.000000000",
          "2024-03-18T00:00:00.000000000",
          "2024-03-19T00:00:00.000000000",
          "2024-03-20T00:00:00.000000000",
          "2024-03-21T00:00:00.000000000",
          "2024-03-22T00:00:00.000000000",
          "2024-03-23T00:00:00.000000000",
          "2024-03-24T00:00:00.000000000",
          "2024-03-25T00:00:00.000000000",
          "2024-03-26T00:00:00.000000000",
          "2024-03-27T00:00:00.000000000",
          "2024-03-28T00:00:00.000000000",
          "2024-03-29T00:00:00.000000000",
          "2024-03-30T00:00:00.000000000",
          "2024-03-31T00:00:00.000000000",
          "2024-04-01T00:00:00.000000000",
          "2024-04-02T00:00:00.000000000",
          "2024-04-03T00:00:00.000000000",
          "2024-04-04T00:00:00.000000000",
          "2024-04-05T00:00:00.000000000",
          "2024-04-06T00:00:00.000000000",
          "2024-04-07T00:00:00.000000000",
          "2024-04-08T00:00:00.000000000",
          "2024-04-09T00:00:00.000000000",
          "2024-04-10T00:00:00.000000000",
          "2024-04-11T00:00:00.000000000",
          "2024-04-12T00:00:00.000000000",
          "2024-04-13T00:00:00.000000000",
          "2024-04-14T00:00:00.000000000",
          "2024-04-15T00:00:00.000000000",
          "2024-04-16T00:00:00.000000000",
          "2024-04-17T00:00:00.000000000",
          "2024-04-18T00:00:00.000000000",
          "2024-04-19T00:00:00.000000000",
          "2024-04-20T00:00:00.000000000",
          "2024-04-21T00:00:00.000000000",
          "2024-04-22T00:00:00.000000000",
          "2024-04-23T00:00:00.000000000",
          "2024-04-24T00:00:00.000000000",
          "2024-04-25T00:00:00.000000000",
          "2024-04-26T00:00:00.000000000",
          "2024-04-27T00:00:00.000000000",
          "2024-04-28T00:00:00.000000000",
          "2024-04-29T00:00:00.000000000",
          "2024-04-30T00:00:00.000000000",
          "2024-05-01T00:00:00.000000000",
          "2024-05-02T00:00:00.000000000",
          "2024-05-03T00:00:00.000000000",
          "2024-05-04T00:00:00.000000000",
          "2024-05-05T00:00:00.000000000",
          "2024-05-06T00:00:00.000000000",
          "2024-05-07T00:00:00.000000000",
          "2024-05-08T00:00:00.000000000",
          "2024-05-09T00:00:00.000000000",
          "2024-05-10T00:00:00.000000000",
          "2024-05-11T00:00:00.000000000",
          "2024-05-12T00:00:00.000000000",
          "2024-05-13T00:00:00.000000000",
          "2024-05-14T00:00:00.000000000",
          "2024-05-15T00:00:00.000000000",
          "2024-05-16T00:00:00.000000000",
          "2024-05-17T00:00:00.000000000",
          "2024-05-18T00:00:00.000000000",
          "2024-05-19T00:00:00.000000000",
          "2024-05-20T00:00:00.000000000",
          "2024-05-21T00:00:00.000000000",
          "2024-05-22T00:00:00.000000000",
          "2024-05-23T00:00:00.000000000",
          "2024-05-24T00:00:00.000000000",
          "2024-05-25T00:00:00.000000000",
          "2024-05-26T00:00:00.000000000",
          "2024-05-27T00:00:00.000000000",
          "2024-05-28T00:00:00.000000000",
          "2024-05-29T00:00:00.000000000",
          "2024-05-30T00:00:00.000000000",
          "2024-05-31T00:00:00.000000000",
          "2024-06-01T00:00:00.000000000",
          "2024-06-02T00:00:00.000000000",
          "2024-06-03T00:00:00.000000000",
          "2024-06-04T00:00:00.000000000",
          "2024-06-05T00:00:00.000000000",
          "2024-06-06T00:00:00.000000000",
          "2024-06-07T00:00:00.000000000",
          "2024-06-08T00:00:00.000000000",
          "2024-06-09T00:00:00.000000000",
          "2024-06-10T00:00:00.000000000",
          "2024-06-11T00:00:00.000000000",
          "2024-06-12T00:00:00.000000000",
          "2024-06-13T00:00:00.000000000",
          "2024-06-14T00:00:00.000000000",
          "2024-06-15T00:00:00.000000000",
          "2024-06-16T00:00:00.000000000",
          "2024-06-17T00:00:00.000000000",
          "2024-06-18T00:00:00.000000000",
          "2024-06-19T00:00:00.000000000",
          "2024-06-20T00:00:00.000000000",
          "2024-06-21T00:00:00.000000000",
          "2024-06-22T00:00:00.000000000",
          "2024-06-23T00:00:00.000000000",
          "2024-06-24T00:00:00.000000000",
          "2024-06-25T00:00:00.000000000",
          "2024-06-26T00:00:00.000000000",
          "2024-06-27T00:00:00.000000000",
          "2024-06-28T00:00:00.000000000",
          "2024-06-29T00:00:00.000000000",
          "2024-06-30T00:00:00.000000000",
          "2024-07-01T00:00:00.000000000",
          "2024-07-02T00:00:00.000000000",
          "2024-07-03T00:00:00.000000000",
          "2024-07-04T00:00:00.000000000",
          "2024-07-05T00:00:00.000000000",
          "2024-07-06T00:00:00.000000000",
          "2024-07-07T00:00:00.000000000",
          "2024-07-08T00:00:00.000000000",
          "2024-07-09T00:00:00.000000000",
          "2024-07-10T00:00:00.000000000",
          "2024-07-11T00:00:00.000000000",
          "2024-07-12T00:00:00.000000000",
          "2024-07-13T00:00:00.000000000",
          "2024-07-14T00:00:00.000000000",
          "2024-07-15T00:00:00.000000000",
          "2024-07-16T00:00:00.000000000",
          "2024-07-17T00:00:00.000000000",
          "2024-07-18T00:00:00.000000000",
          "2024-07-19T00:00:00.000000000",
          "2024-07-20T00:00:00.000000000",
          "2024-07-21T00:00:00.000000000",
          "2024-07-22T00:00:00.000000000",
          "2024-07-23T00:00:00.000000000",
          "2024-07-24T00:00:00.000000000",
          "2024-07-25T00:00:00.000000000",
          "2024-07-26T00:00:00.000000000",
          "2024-07-27T00:00:00.000000000",
          "2024-07-28T00:00:00.000000000",
          "2024-07-29T00:00:00.000000000",
          "2024-07-30T00:00:00.000000000",
          "2024-07-31T00:00:00.000000000",
          "2024-08-01T00:00:00.000000000",
          "2024-08-02T00:00:00.000000000",
          "2024-08-03T00:00:00.000000000",
          "2024-08-04T00:00:00.000000000",
          "2024-08-05T00:00:00.000000000",
          "2024-08-06T00:00:00.000000000",
          "2024-08-07T00:00:00.000000000",
          "2024-08-08T00:00:00.000000000",
          "2024-08-09T00:00:00.000000000",
          "2024-08-10T00:00:00.000000000",
          "2024-08-11T00:00:00.000000000",
          "2024-08-12T00:00:00.000000000",
          "2024-08-13T00:00:00.000000000",
          "2024-08-14T00:00:00.000000000",
          "2024-08-15T00:00:00.000000000",
          "2024-08-16T00:00:00.000000000",
          "2024-08-17T00:00:00.000000000",
          "2024-08-18T00:00:00.000000000",
          "2024-08-19T00:00:00.000000000",
          "2024-08-20T00:00:00.000000000",
          "2024-08-21T00:00:00.000000000",
          "2024-08-22T00:00:00.000000000",
          "2024-08-23T00:00:00.000000000",
          "2024-08-24T00:00:00.000000000",
          "2024-08-25T00:00:00.000000000",
          "2024-08-26T00:00:00.000000000",
          "2024-08-27T00:00:00.000000000",
          "2024-08-28T00:00:00.000000000",
          "2024-08-29T00:00:00.000000000",
          "2024-08-30T00:00:00.000000000",
          "2024-08-31T00:00:00.000000000",
          "2024-09-01T00:00:00.000000000",
          "2024-09-02T00:00:00.000000000",
          "2024-09-03T00:00:00.000000000",
          "2024-09-04T00:00:00.000000000",
          "2024-09-05T00:00:00.000000000",
          "2024-09-06T00:00:00.000000000",
          "2024-09-07T00:00:00.000000000",
          "2024-09-08T00:00:00.000000000",
          "2024-09-09T00:00:00.000000000",
          "2024-09-10T00:00:00.000000000",
          "2024-09-11T00:00:00.000000000",
          "2024-09-12T00:00:00.000000000",
          "2024-09-13T00:00:00.000000000",
          "2024-09-14T00:00:00.000000000",
          "2024-09-15T00:00:00.000000000",
          "2024-09-16T00:00:00.000000000",
          "2024-09-17T00:00:00.000000000",
          "2024-09-18T00:00:00.000000000",
          "2024-09-19T00:00:00.000000000",
          "2024-09-20T00:00:00.000000000",
          "2024-09-21T00:00:00.000000000",
          "2024-09-22T00:00:00.000000000",
          "2024-09-23T00:00:00.000000000",
          "2024-09-24T00:00:00.000000000",
          "2024-09-25T00:00:00.000000000",
          "2024-09-26T00:00:00.000000000",
          "2024-09-27T00:00:00.000000000",
          "2024-09-28T00:00:00.000000000",
          "2024-09-29T00:00:00.000000000",
          "2024-09-30T00:00:00.000000000"
         ],
         "y": {
          "bdata": "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",
          "dtype": "f8"
         }
        },
        {
         "mode": "lines",
         "name": "Predicted Prices",
         "type": "scatter",
         "x": [
          "2024-01-01T00:00:00.000000000",
          "2024-01-02T00:00:00.000000000",
          "2024-01-03T00:00:00.000000000",
          "2024-01-04T00:00:00.000000000",
          "2024-01-05T00:00:00.000000000",
          "2024-01-06T00:00:00.000000000",
          "2024-01-07T00:00:00.000000000",
          "2024-01-08T00:00:00.000000000",
          "2024-01-09T00:00:00.000000000",
          "2024-01-10T00:00:00.000000000",
          "2024-01-11T00:00:00.000000000",
          "2024-01-12T00:00:00.000000000",
          "2024-01-13T00:00:00.000000000",
          "2024-01-14T00:00:00.000000000",
          "2024-01-15T00:00:00.000000000",
          "2024-01-16T00:00:00.000000000",
          "2024-01-17T00:00:00.000000000",
          "2024-01-18T00:00:00.000000000",
          "2024-01-19T00:00:00.000000000",
          "2024-01-20T00:00:00.000000000",
          "2024-01-21T00:00:00.000000000",
          "2024-01-22T00:00:00.000000000",
          "2024-01-23T00:00:00.000000000",
          "2024-01-24T00:00:00.000000000",
          "2024-01-25T00:00:00.000000000",
          "2024-01-26T00:00:00.000000000",
          "2024-01-27T00:00:00.000000000",
          "2024-01-28T00:00:00.000000000",
          "2024-01-29T00:00:00.000000000",
          "2024-01-30T00:00:00.000000000",
          "2024-01-31T00:00:00.000000000",
          "2024-02-01T00:00:00.000000000",
          "2024-02-02T00:00:00.000000000",
          "2024-02-03T00:00:00.000000000",
          "2024-02-04T00:00:00.000000000",
          "2024-02-05T00:00:00.000000000",
          "2024-02-06T00:00:00.000000000",
          "2024-02-07T00:00:00.000000000",
          "2024-02-08T00:00:00.000000000",
          "2024-02-09T00:00:00.000000000",
          "2024-02-10T00:00:00.000000000",
          "2024-02-11T00:00:00.000000000",
          "2024-02-12T00:00:00.000000000",
          "2024-02-13T00:00:00.000000000",
          "2024-02-14T00:00:00.000000000",
          "2024-02-15T00:00:00.000000000",
          "2024-02-16T00:00:00.000000000",
          "2024-02-17T00:00:00.000000000",
          "2024-02-18T00:00:00.000000000",
          "2024-02-19T00:00:00.000000000",
          "2024-02-20T00:00:00.000000000",
          "2024-02-21T00:00:00.000000000",
          "2024-02-22T00:00:00.000000000",
          "2024-02-23T00:00:00.000000000",
          "2024-02-24T00:00:00.000000000",
          "2024-02-25T00:00:00.000000000",
          "2024-02-26T00:00:00.000000000",
          "2024-02-27T00:00:00.000000000",
          "2024-02-28T00:00:00.000000000",
          "2024-02-29T00:00:00.000000000",
          "2024-03-01T00:00:00.000000000",
          "2024-03-02T00:00:00.000000000",
          "2024-03-03T00:00:00.000000000",
          "2024-03-04T00:00:00.000000000",
          "2024-03-05T00:00:00.000000000",
          "2024-03-06T00:00:00.000000000",
          "2024-03-07T00:00:00.000000000",
          "2024-03-08T00:00:00.000000000",
          "2024-03-09T00:00:00.000000000",
          "2024-03-10T00:00:00.000000000",
          "2024-03-11T00:00:00.000000000",
          "2024-03-12T00:00:00.000000000",
          "2024-03-13T00:00:00.000000000",
          "2024-03-14T00:00:00.000000000",
          "2024-03-15T00:00:00.000000000",
          "2024-03-16T00:00:00.000000000",
          "2024-03-17T00:00:00.000000000",
          "2024-03-18T00:00:00.000000000",
          "2024-03-19T00:00:00.000000000",
          "2024-03-20T00:00:00.000000000",
          "2024-03-21T00:00:00.000000000",
          "2024-03-22T00:00:00.000000000",
          "2024-03-23T00:00:00.000000000",
          "2024-03-24T00:00:00.000000000",
          "2024-03-25T00:00:00.000000000",
          "2024-03-26T00:00:00.000000000",
          "2024-03-27T00:00:00.000000000",
          "2024-03-28T00:00:00.000000000",
          "2024-03-29T00:00:00.000000000",
          "2024-03-30T00:00:00.000000000",
          "2024-03-31T00:00:00.000000000",
          "2024-04-01T00:00:00.000000000",
          "2024-04-02T00:00:00.000000000",
          "2024-04-03T00:00:00.000000000",
          "2024-04-04T00:00:00.000000000",
          "2024-04-05T00:00:00.000000000",
          "2024-04-06T00:00:00.000000000",
          "2024-04-07T00:00:00.000000000",
          "2024-04-08T00:00:00.000000000",
          "2024-04-09T00:00:00.000000000",
          "2024-04-10T00:00:00.000000000",
          "2024-04-11T00:00:00.000000000",
          "2024-04-12T00:00:00.000000000",
          "2024-04-13T00:00:00.000000000",
          "2024-04-14T00:00:00.000000000",
          "2024-04-15T00:00:00.000000000",
          "2024-04-16T00:00:00.000000000",
          "2024-04-17T00:00:00.000000000",
          "2024-04-18T00:00:00.000000000",
          "2024-04-19T00:00:00.000000000",
          "2024-04-20T00:00:00.000000000",
          "2024-04-21T00:00:00.000000000",
          "2024-04-22T00:00:00.000000000",
          "2024-04-23T00:00:00.000000000",
          "2024-04-24T00:00:00.000000000",
          "2024-04-25T00:00:00.000000000",
          "2024-04-26T00:00:00.000000000",
          "2024-04-27T00:00:00.000000000",
          "2024-04-28T00:00:00.000000000",
          "2024-04-29T00:00:00.000000000",
          "2024-04-30T00:00:00.000000000",
          "2024-05-01T00:00:00.000000000",
          "2024-05-02T00:00:00.000000000",
          "2024-05-03T00:00:00.000000000",
          "2024-05-04T00:00:00.000000000",
          "2024-05-05T00:00:00.000000000",
          "2024-05-06T00:00:00.000000000",
          "2024-05-07T00:00:00.000000000",
          "2024-05-08T00:00:00.000000000",
          "2024-05-09T00:00:00.000000000",
          "2024-05-10T00:00:00.000000000",
          "2024-05-11T00:00:00.000000000",
          "2024-05-12T00:00:00.000000000",
          "2024-05-13T00:00:00.000000000",
          "2024-05-14T00:00:00.000000000",
          "2024-05-15T00:00:00.000000000",
          "2024-05-16T00:00:00.000000000",
          "2024-05-17T00:00:00.000000000",
          "2024-05-18T00:00:00.000000000",
          "2024-05-19T00:00:00.000000000",
          "2024-05-20T00:00:00.000000000",
          "2024-05-21T00:00:00.000000000",
          "2024-05-22T00:00:00.000000000",
          "2024-05-23T00:00:00.000000000",
          "2024-05-24T00:00:00.000000000",
          "2024-05-25T00:00:00.000000000",
          "2024-05-26T00:00:00.000000000",
          "2024-05-27T00:00:00.000000000",
          "2024-05-28T00:00:00.000000000",
          "2024-05-29T00:00:00.000000000",
          "2024-05-30T00:00:00.000000000",
          "2024-05-31T00:00:00.000000000",
          "2024-06-01T00:00:00.000000000",
          "2024-06-02T00:00:00.000000000",
          "2024-06-03T00:00:00.000000000",
          "2024-06-04T00:00:00.000000000",
          "2024-06-05T00:00:00.000000000",
          "2024-06-06T00:00:00.000000000",
          "2024-06-07T00:00:00.000000000",
          "2024-06-08T00:00:00.000000000",
          "2024-06-09T00:00:00.000000000",
          "2024-06-10T00:00:00.000000000",
          "2024-06-11T00:00:00.000000000",
          "2024-06-12T00:00:00.000000000",
          "2024-06-13T00:00:00.000000000",
          "2024-06-14T00:00:00.000000000",
          "2024-06-15T00:00:00.000000000",
          "2024-06-16T00:00:00.000000000",
          "2024-06-17T00:00:00.000000000",
          "2024-06-18T00:00:00.000000000",
          "2024-06-19T00:00:00.000000000",
          "2024-06-20T00:00:00.000000000",
          "2024-06-21T00:00:00.000000000",
          "2024-06-22T00:00:00.000000000",
          "2024-06-23T00:00:00.000000000",
          "2024-06-24T00:00:00.000000000",
          "2024-06-25T00:00:00.000000000",
          "2024-06-26T00:00:00.000000000",
          "2024-06-27T00:00:00.000000000",
          "2024-06-28T00:00:00.000000000",
          "2024-06-29T00:00:00.000000000",
          "2024-06-30T00:00:00.000000000",
          "2024-07-01T00:00:00.000000000",
          "2024-07-02T00:00:00.000000000",
          "2024-07-03T00:00:00.000000000",
          "2024-07-04T00:00:00.000000000",
          "2024-07-05T00:00:00.000000000",
          "2024-07-06T00:00:00.000000000",
          "2024-07-07T00:00:00.000000000",
          "2024-07-08T00:00:00.000000000",
          "2024-07-09T00:00:00.000000000",
          "2024-07-10T00:00:00.000000000",
          "2024-07-11T00:00:00.000000000",
          "2024-07-12T00:00:00.000000000",
          "2024-07-13T00:00:00.000000000",
          "2024-07-14T00:00:00.000000000",
          "2024-07-15T00:00:00.000000000",
          "2024-07-16T00:00:00.000000000",
          "2024-07-17T00:00:00.000000000",
          "2024-07-18T00:00:00.000000000",
          "2024-07-19T00:00:00.000000000",
          "2024-07-20T00:00:00.000000000",
          "2024-07-21T00:00:00.000000000",
          "2024-07-22T00:00:00.000000000",
          "2024-07-23T00:00:00.000000000",
          "2024-07-24T00:00:00.000000000",
          "2024-07-25T00:00:00.000000000",
          "2024-07-26T00:00:00.000000000",
          "2024-07-27T00:00:00.000000000",
          "2024-07-28T00:00:00.000000000",
          "2024-07-29T00:00:00.000000000",
          "2024-07-30T00:00:00.000000000",
          "2024-07-31T00:00:00.000000000",
          "2024-08-01T00:00:00.000000000",
          "2024-08-02T00:00:00.000000000",
          "2024-08-03T00:00:00.000000000",
          "2024-08-04T00:00:00.000000000",
          "2024-08-05T00:00:00.000000000",
          "2024-08-06T00:00:00.000000000",
          "2024-08-07T00:00:00.000000000",
          "2024-08-08T00:00:00.000000000",
          "2024-08-09T00:00:00.000000000",
          "2024-08-10T00:00:00.000000000",
          "2024-08-11T00:00:00.000000000",
          "2024-08-12T00:00:00.000000000",
          "2024-08-13T00:00:00.000000000",
          "2024-08-14T00:00:00.000000000",
          "2024-08-15T00:00:00.000000000",
          "2024-08-16T00:00:00.000000000",
          "2024-08-17T00:00:00.000000000",
          "2024-08-18T00:00:00.000000000",
          "2024-08-19T00:00:00.000000000",
          "2024-08-20T00:00:00.000000000",
          "2024-08-21T00:00:00.000000000",
          "2024-08-22T00:00:00.000000000",
          "2024-08-23T00:00:00.000000000",
          "2024-08-24T00:00:00.000000000",
          "2024-08-25T00:00:00.000000000",
          "2024-08-26T00:00:00.000000000",
          "2024-08-27T00:00:00.000000000",
          "2024-08-28T00:00:00.000000000",
          "2024-08-29T00:00:00.000000000",
          "2024-08-30T00:00:00.000000000",
          "2024-08-31T00:00:00.000000000",
          "2024-09-01T00:00:00.000000000",
          "2024-09-02T00:00:00.000000000",
          "2024-09-03T00:00:00.000000000",
          "2024-09-04T00:00:00.000000000",
          "2024-09-05T00:00:00.000000000",
          "2024-09-06T00:00:00.000000000",
          "2024-09-07T00:00:00.000000000",
          "2024-09-08T00:00:00.000000000",
          "2024-09-09T00:00:00.000000000",
          "2024-09-10T00:00:00.000000000",
          "2024-09-11T00:00:00.000000000",
          "2024-09-12T00:00:00.000000000",
          "2024-09-13T00:00:00.000000000",
          "2024-09-14T00:00:00.000000000",
          "2024-09-15T00:00:00.000000000",
          "2024-09-16T00:00:00.000000000",
          "2024-09-17T00:00:00.000000000",
          "2024-09-18T00:00:00.000000000",
          "2024-09-19T00:00:00.000000000",
          "2024-09-20T00:00:00.000000000",
          "2024-09-21T00:00:00.000000000",
          "2024-09-22T00:00:00.000000000",
          "2024-09-23T00:00:00.000000000",
          "2024-09-24T00:00:00.000000000",
          "2024-09-25T00:00:00.000000000",
          "2024-09-26T00:00:00.000000000",
          "2024-09-27T00:00:00.000000000",
          "2024-09-28T00:00:00.000000000",
          "2024-09-29T00:00:00.000000000",
          "2024-09-30T00:00:00.000000000"
         ],
         "y": {
          "bdata": "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",
          "dtype": "f8"
         }
        }
       ],
       "layout": {
        "template": {
         "data": {
          "bar": [
           {
            "error_x": {
             "color": "#2a3f5f"
            },
            "error_y": {
             "color": "#2a3f5f"
            },
            "marker": {
             "line": {
              "color": "#E5ECF6",
              "width": 0.5
             },
             "pattern": {
              "fillmode": "overlay",
              "size": 10,
              "solidity": 0.2
             }
            },
            "type": "bar"
           }
          ],
          "barpolar": [
           {
            "marker": {
             "line": {
              "color": "#E5ECF6",
              "width": 0.5
             },
             "pattern": {
              "fillmode": "overlay",
              "size": 10,
              "solidity": 0.2
             }
            },
            "type": "barpolar"
           }
          ],
          "carpet": [
           {
            "aaxis": {
             "endlinecolor": "#2a3f5f",
             "gridcolor": "white",
             "linecolor": "white",
             "minorgridcolor": "white",
             "startlinecolor": "#2a3f5f"
            },
            "baxis": {
             "endlinecolor": "#2a3f5f",
             "gridcolor": "white",
             "linecolor": "white",
             "minorgridcolor": "white",
             "startlinecolor": "#2a3f5f"
            },
            "type": "carpet"
           }
          ],
          "choropleth": [
           {
            "colorbar": {
             "outlinewidth": 0,
             "ticks": ""
            },
            "type": "choropleth"
           }
          ],
          "contour": [
           {
            "colorbar": {
             "outlinewidth": 0,
             "ticks": ""
            },
            "colorscale": [
             [
              0,
              "#0d0887"
             ],
             [
              0.1111111111111111,
              "#46039f"
             ],
             [
              0.2222222222222222,
              "#7201a8"
             ],
             [
              0.3333333333333333,
              "#9c179e"
             ],
             [
              0.4444444444444444,
              "#bd3786"
             ],
             [
              0.5555555555555556,
              "#d8576b"
             ],
             [
              0.6666666666666666,
              "#ed7953"
             ],
             [
              0.7777777777777778,
              "#fb9f3a"
             ],
             [
              0.8888888888888888,
              "#fdca26"
             ],
             [
              1,
              "#f0f921"
             ]
            ],
            "type": "contour"
           }
          ],
          "contourcarpet": [
           {
            "colorbar": {
             "outlinewidth": 0,
             "ticks": ""
            },
            "type": "contourcarpet"
           }
          ],
          "heatmap": [
           {
            "colorbar": {
             "outlinewidth": 0,
             "ticks": ""
            },
            "colorscale": [
             [
              0,
              "#0d0887"
             ],
             [
              0.1111111111111111,
              "#46039f"
             ],
             [
              0.2222222222222222,
              "#7201a8"
             ],
             [
              0.3333333333333333,
              "#9c179e"
             ],
             [
              0.4444444444444444,
              "#bd3786"
             ],
             [
              0.5555555555555556,
              "#d8576b"
             ],
             [
              0.6666666666666666,
              "#ed7953"
             ],
             [
              0.7777777777777778,
              "#fb9f3a"
             ],
             [
              0.8888888888888888,
              "#fdca26"
             ],
             [
              1,
              "#f0f921"
             ]
            ],
            "type": "heatmap"
           }
          ],
          "histogram": [
           {
            "marker": {
             "pattern": {
              "fillmode": "overlay",
              "size": 10,
              "solidity": 0.2
             }
            },
            "type": "histogram"
           }
          ],
          "histogram2d": [
           {
            "colorbar": {
             "outlinewidth": 0,
             "ticks": ""
            },
            "colorscale": [
             [
              0,
              "#0d0887"
             ],
             [
              0.1111111111111111,
              "#46039f"
             ],
             [
              0.2222222222222222,
              "#7201a8"
             ],
             [
              0.3333333333333333,
              "#9c179e"
             ],
             [
              0.4444444444444444,
              "#bd3786"
             ],
             [
              0.5555555555555556,
              "#d8576b"
             ],
             [
              0.6666666666666666,
              "#ed7953"
             ],
             [
              0.7777777777777778,
              "#fb9f3a"
             ],
             [
              0.8888888888888888,
              "#fdca26"
             ],
             [
              1,
              "#f0f921"
             ]
            ],
            "type": "histogram2d"
           }
          ],
          "histogram2dcontour": [
           {
            "colorbar": {
             "outlinewidth": 0,
             "ticks": ""
            },
            "colorscale": [
             [
              0,
              "#0d0887"
             ],
             [
              0.1111111111111111,
              "#46039f"
             ],
             [
              0.2222222222222222,
              "#7201a8"
             ],
             [
              0.3333333333333333,
              "#9c179e"
             ],
             [
              0.4444444444444444,
              "#bd3786"
             ],
             [
              0.5555555555555556,
              "#d8576b"
             ],
             [
              0.6666666666666666,
              "#ed7953"
             ],
             [
              0.7777777777777778,
              "#fb9f3a"
             ],
             [
              0.8888888888888888,
              "#fdca26"
             ],
             [
              1,
              "#f0f921"
             ]
            ],
            "type": "histogram2dcontour"
           }
          ],
          "mesh3d": [
           {
            "colorbar": {
             "outlinewidth": 0,
             "ticks": ""
            },
            "type": "mesh3d"
           }
          ],
          "parcoords": [
           {
            "line": {
             "colorbar": {
              "outlinewidth": 0,
              "ticks": ""
             }
            },
            "type": "parcoords"
           }
          ],
          "pie": [
           {
            "automargin": true,
            "type": "pie"
           }
          ],
          "scatter": [
           {
            "fillpattern": {
             "fillmode": "overlay",
             "size": 10,
             "solidity": 0.2
            },
            "type": "scatter"
           }
          ],
          "scatter3d": [
           {
            "line": {
             "colorbar": {
              "outlinewidth": 0,
              "ticks": ""
             }
            },
            "marker": {
             "colorbar": {
              "outlinewidth": 0,
              "ticks": ""
             }
            },
            "type": "scatter3d"
           }
          ],
          "scattercarpet": [
           {
            "marker": {
             "colorbar": {
              "outlinewidth": 0,
              "ticks": ""
             }
            },
            "type": "scattercarpet"
           }
          ],
          "scattergeo": [
           {
            "marker": {
             "colorbar": {
              "outlinewidth": 0,
              "ticks": ""
             }
            },
            "type": "scattergeo"
           }
          ],
          "scattergl": [
           {
            "marker": {
             "colorbar": {
              "outlinewidth": 0,
              "ticks": ""
             }
            },
            "type": "scattergl"
           }
          ],
          "scattermap": [
           {
            "marker": {
             "colorbar": {
              "outlinewidth": 0,
              "ticks": ""
             }
            },
            "type": "scattermap"
           }
          ],
          "scattermapbox": [
           {
            "marker": {
             "colorbar": {
              "outlinewidth": 0,
              "ticks": ""
             }
            },
            "type": "scattermapbox"
           }
          ],
          "scatterpolar": [
           {
            "marker": {
             "colorbar": {
              "outlinewidth": 0,
              "ticks": ""
             }
            },
            "type": "scatterpolar"
           }
          ],
          "scatterpolargl": [
           {
            "marker": {
             "colorbar": {
              "outlinewidth": 0,
              "ticks": ""
             }
            },
            "type": "scatterpolargl"
           }
          ],
          "scatterternary": [
           {
            "marker": {
             "colorbar": {
              "outlinewidth": 0,
              "ticks": ""
             }
            },
            "type": "scatterternary"
           }
          ],
          "surface": [
           {
            "colorbar": {
             "outlinewidth": 0,
             "ticks": ""
            },
            "colorscale": [
             [
              0,
              "#0d0887"
             ],
             [
              0.1111111111111111,
              "#46039f"
             ],
             [
              0.2222222222222222,
              "#7201a8"
             ],
             [
              0.3333333333333333,
              "#9c179e"
             ],
             [
              0.4444444444444444,
              "#bd3786"
             ],
             [
              0.5555555555555556,
              "#d8576b"
             ],
             [
              0.6666666666666666,
              "#ed7953"
             ],
             [
              0.7777777777777778,
              "#fb9f3a"
             ],
             [
              0.8888888888888888,
              "#fdca26"
             ],
             [
              1,
              "#f0f921"
             ]
            ],
            "type": "surface"
           }
          ],
          "table": [
           {
            "cells": {
             "fill": {
              "color": "#EBF0F8"
             },
             "line": {
              "color": "white"
             }
            },
            "header": {
             "fill": {
              "color": "#C8D4E3"
             },
             "line": {
              "color": "white"
             }
            },
            "type": "table"
           }
          ]
         },
         "layout": {
          "annotationdefaults": {
           "arrowcolor": "#2a3f5f",
           "arrowhead": 0,
           "arrowwidth": 1
          },
          "autotypenumbers": "strict",
          "coloraxis": {
           "colorbar": {
            "outlinewidth": 0,
            "ticks": ""
           }
          },
          "colorscale": {
           "diverging": [
            [
             0,
             "#8e0152"
            ],
            [
             0.1,
             "#c51b7d"
            ],
            [
             0.2,
             "#de77ae"
            ],
            [
             0.3,
             "#f1b6da"
            ],
            [
             0.4,
             "#fde0ef"
            ],
            [
             0.5,
             "#f7f7f7"
            ],
            [
             0.6,
             "#e6f5d0"
            ],
            [
             0.7,
             "#b8e186"
            ],
            [
             0.8,
             "#7fbc41"
            ],
            [
             0.9,
             "#4d9221"
            ],
            [
             1,
             "#276419"
            ]
           ],
           "sequential": [
            [
             0,
             "#0d0887"
            ],
            [
             0.1111111111111111,
             "#46039f"
            ],
            [
             0.2222222222222222,
             "#7201a8"
            ],
            [
             0.3333333333333333,
             "#9c179e"
            ],
            [
             0.4444444444444444,
             "#bd3786"
            ],
            [
             0.5555555555555556,
             "#d8576b"
            ],
            [
             0.6666666666666666,
             "#ed7953"
            ],
            [
             0.7777777777777778,
             "#fb9f3a"
            ],
            [
             0.8888888888888888,
             "#fdca26"
            ],
            [
             1,
             "#f0f921"
            ]
           ],
           "sequentialminus": [
            [
             0,
             "#0d0887"
            ],
            [
             0.1111111111111111,
             "#46039f"
            ],
            [
             0.2222222222222222,
             "#7201a8"
            ],
            [
             0.3333333333333333,
             "#9c179e"
            ],
            [
             0.4444444444444444,
             "#bd3786"
            ],
            [
             0.5555555555555556,
             "#d8576b"
            ],
            [
             0.6666666666666666,
             "#ed7953"
            ],
            [
             0.7777777777777778,
             "#fb9f3a"
            ],
            [
             0.8888888888888888,
             "#fdca26"
            ],
            [
             1,
             "#f0f921"
            ]
           ]
          },
          "colorway": [
           "#636efa",
           "#EF553B",
           "#00cc96",
           "#ab63fa",
           "#FFA15A",
           "#19d3f3",
           "#FF6692",
           "#B6E880",
           "#FF97FF",
           "#FECB52"
          ],
          "font": {
           "color": "#2a3f5f"
          },
          "geo": {
           "bgcolor": "white",
           "lakecolor": "white",
           "landcolor": "#E5ECF6",
           "showlakes": true,
           "showland": true,
           "subunitcolor": "white"
          },
          "hoverlabel": {
           "align": "left"
          },
          "hovermode": "closest",
          "mapbox": {
           "style": "light"
          },
          "paper_bgcolor": "white",
          "plot_bgcolor": "#E5ECF6",
          "polar": {
           "angularaxis": {
            "gridcolor": "white",
            "linecolor": "white",
            "ticks": ""
           },
           "bgcolor": "#E5ECF6",
           "radialaxis": {
            "gridcolor": "white",
            "linecolor": "white",
            "ticks": ""
           }
          },
          "scene": {
           "xaxis": {
            "backgroundcolor": "#E5ECF6",
            "gridcolor": "white",
            "gridwidth": 2,
            "linecolor": "white",
            "showbackground": true,
            "ticks": "",
            "zerolinecolor": "white"
           },
           "yaxis": {
            "backgroundcolor": "#E5ECF6",
            "gridcolor": "white",
            "gridwidth": 2,
            "linecolor": "white",
            "showbackground": true,
            "ticks": "",
            "zerolinecolor": "white"
           },
           "zaxis": {
            "backgroundcolor": "#E5ECF6",
            "gridcolor": "white",
            "gridwidth": 2,
            "linecolor": "white",
            "showbackground": true,
            "ticks": "",
            "zerolinecolor": "white"
           }
          },
          "shapedefaults": {
           "line": {
            "color": "#2a3f5f"
           }
          },
          "ternary": {
           "aaxis": {
            "gridcolor": "white",
            "linecolor": "white",
            "ticks": ""
           },
           "baxis": {
            "gridcolor": "white",
            "linecolor": "white",
            "ticks": ""
           },
           "bgcolor": "#E5ECF6",
           "caxis": {
            "gridcolor": "white",
            "linecolor": "white",
            "ticks": ""
           }
          },
          "title": {
           "x": 0.05
          },
          "xaxis": {
           "automargin": true,
           "gridcolor": "white",
           "linecolor": "white",
           "ticks": "",
           "title": {
            "standoff": 15
           },
           "zerolinecolor": "white",
           "zerolinewidth": 2
          },
          "yaxis": {
           "automargin": true,
           "gridcolor": "white",
           "linecolor": "white",
           "ticks": "",
           "title": {
            "standoff": 15
           },
           "zerolinecolor": "white",
           "zerolinewidth": 2
          }
         }
        },
        "title": {
         "text": "Actual vs Predicted Natural Gas Prices"
        },
        "xaxis": {
         "title": {
          "text": "Date"
         }
        },
        "yaxis": {
         "title": {
          "text": "Price"
         }
        }
       }
      }
     },
     "metadata": {},
     "output_type": "display_data"
    }
   ],
   "source": [
    "import plotly.graph_objects as go\n",
    "\n",
    "fig = go.Figure()\n",
    "fig.add_trace(go.Scatter(x=test_data.index, y=test_data['Prices'], mode='lines', name='Actual Prices'))\n",
    "fig.add_trace(go.Scatter(x=predicted_data.index, y=predicted_data['Predicted_Prices'], mode='lines', name='Predicted Prices'))\n",
    "fig.update_layout(title='Actual vs Predicted Natural Gas Prices',\n",
    "                  xaxis_title='Date',\n",
    "                  yaxis_title='Price')\n",
    "fig.show()"
   ]
  },
  {
   "cell_type": "code",
   "execution_count": 27,
   "id": "a79121ad",
   "metadata": {},
   "outputs": [
    {
     "name": "stdout",
     "output_type": "stream",
     "text": [
      "Performing stepwise search to minimize aic\n",
      " ARIMA(1,0,1)(0,1,1)[12] intercept   : AIC=-10053.619, Time=16.06 sec\n",
      " ARIMA(0,0,0)(0,1,0)[12] intercept   : AIC=-1469.625, Time=0.36 sec\n",
      " ARIMA(1,0,0)(1,1,0)[12] intercept   : AIC=inf, Time=6.49 sec\n",
      " ARIMA(0,0,1)(0,1,1)[12] intercept   : AIC=inf, Time=8.23 sec\n",
      " ARIMA(0,0,0)(0,1,0)[12]             : AIC=-1459.016, Time=0.20 sec\n",
      " ARIMA(1,0,1)(0,1,0)[12] intercept   : AIC=-10014.616, Time=3.06 sec\n",
      " ARIMA(1,0,1)(1,1,1)[12] intercept   : AIC=inf, Time=16.35 sec\n",
      " ARIMA(1,0,1)(0,1,2)[12] intercept   : AIC=-10067.989, Time=13.80 sec\n",
      " ARIMA(1,0,1)(1,1,2)[12] intercept   : AIC=inf, Time=34.34 sec\n",
      " ARIMA(0,0,1)(0,1,2)[12] intercept   : AIC=inf, Time=33.26 sec\n",
      " ARIMA(1,0,0)(0,1,2)[12] intercept   : AIC=-8922.729, Time=15.37 sec\n",
      " ARIMA(2,0,1)(0,1,2)[12] intercept   : AIC=-11897.091, Time=37.24 sec\n",
      " ARIMA(2,0,1)(0,1,1)[12] intercept   : AIC=-11893.512, Time=7.73 sec\n",
      " ARIMA(2,0,1)(1,1,2)[12] intercept   : AIC=-11876.662, Time=34.79 sec\n",
      " ARIMA(2,0,1)(1,1,1)[12] intercept   : AIC=-11780.829, Time=14.07 sec\n",
      " ARIMA(2,0,0)(0,1,2)[12] intercept   : AIC=-11898.214, Time=39.89 sec\n",
      " ARIMA(2,0,0)(0,1,1)[12] intercept   : AIC=-11897.243, Time=9.68 sec\n",
      " ARIMA(2,0,0)(1,1,2)[12] intercept   : AIC=-11894.617, Time=30.43 sec\n",
      " ARIMA(2,0,0)(1,1,1)[12] intercept   : AIC=inf, Time=9.69 sec\n",
      " ARIMA(3,0,0)(0,1,2)[12] intercept   : AIC=-11896.116, Time=15.36 sec\n",
      " ARIMA(3,0,1)(0,1,2)[12] intercept   : AIC=-11895.523, Time=32.57 sec\n",
      " ARIMA(2,0,0)(0,1,2)[12]             : AIC=-11905.415, Time=18.82 sec\n",
      " ARIMA(2,0,0)(0,1,1)[12]             : AIC=-11898.446, Time=2.36 sec\n",
      " ARIMA(2,0,0)(1,1,2)[12]             : AIC=-11896.108, Time=9.96 sec\n",
      " ARIMA(2,0,0)(1,1,1)[12]             : AIC=inf, Time=8.49 sec\n",
      " ARIMA(1,0,0)(0,1,2)[12]             : AIC=-8923.677, Time=4.20 sec\n",
      " ARIMA(3,0,0)(0,1,2)[12]             : AIC=-11898.883, Time=13.36 sec\n",
      " ARIMA(2,0,1)(0,1,2)[12]             : AIC=-11920.056, Time=15.18 sec\n",
      " ARIMA(2,0,1)(0,1,1)[12]             : AIC=-11890.436, Time=5.31 sec\n",
      " ARIMA(2,0,1)(1,1,2)[12]             : AIC=-11913.639, Time=9.99 sec\n",
      " ARIMA(2,0,1)(1,1,1)[12]             : AIC=inf, Time=7.24 sec\n",
      " ARIMA(1,0,1)(0,1,2)[12]             : AIC=-10147.559, Time=11.19 sec\n",
      " ARIMA(3,0,1)(0,1,2)[12]             : AIC=-11907.211, Time=11.33 sec\n",
      " ARIMA(2,0,2)(0,1,2)[12]             : AIC=-11930.825, Time=17.99 sec\n",
      " ARIMA(2,0,2)(0,1,1)[12]             : AIC=-11933.363, Time=10.22 sec\n",
      " ARIMA(2,0,2)(0,1,0)[12]             : AIC=-11411.074, Time=2.01 sec\n",
      " ARIMA(2,0,2)(1,1,1)[12]             : AIC=inf, Time=19.65 sec\n",
      " ARIMA(2,0,2)(1,1,0)[12]             : AIC=-11758.698, Time=6.93 sec\n",
      " ARIMA(2,0,2)(1,1,2)[12]             : AIC=-11925.847, Time=18.40 sec\n",
      " ARIMA(1,0,2)(0,1,1)[12]             : AIC=-10592.981, Time=3.86 sec\n",
      " ARIMA(3,0,2)(0,1,1)[12]             : AIC=-10467.411, Time=11.13 sec\n",
      " ARIMA(2,0,3)(0,1,1)[12]             : AIC=-11909.745, Time=9.77 sec\n",
      " ARIMA(1,0,1)(0,1,1)[12]             : AIC=-9914.608, Time=1.05 sec\n",
      " ARIMA(1,0,3)(0,1,1)[12]             : AIC=-11009.215, Time=7.56 sec\n",
      " ARIMA(3,0,1)(0,1,1)[12]             : AIC=-11893.524, Time=3.88 sec\n",
      " ARIMA(3,0,3)(0,1,1)[12]             : AIC=-10335.055, Time=24.97 sec\n",
      " ARIMA(2,0,2)(0,1,1)[12] intercept   : AIC=-11894.048, Time=63.18 sec\n",
      "\n",
      "Best model:  ARIMA(2,0,2)(0,1,1)[12]          \n",
      "Total fit time: 697.300 seconds\n"
     ]
    },
    {
     "data": {
      "text/html": [
       "<table class=\"simpletable\">\n",
       "<caption>SARIMAX Results</caption>\n",
       "<tr>\n",
       "  <th>Dep. Variable:</th>                   <td>y</td>                <th>  No. Observations:  </th>    <td>1431</td>   \n",
       "</tr>\n",
       "<tr>\n",
       "  <th>Model:</th>           <td>SARIMAX(2, 0, 2)x(0, 1, [1], 12)</td> <th>  Log Likelihood     </th>  <td>5972.682</td> \n",
       "</tr>\n",
       "<tr>\n",
       "  <th>Date:</th>                    <td>Wed, 13 Aug 2025</td>         <th>  AIC                </th> <td>-11933.363</td>\n",
       "</tr>\n",
       "<tr>\n",
       "  <th>Time:</th>                        <td>18:05:38</td>             <th>  BIC                </th> <td>-11901.817</td>\n",
       "</tr>\n",
       "<tr>\n",
       "  <th>Sample:</th>                     <td>10-31-2020</td>            <th>  HQIC               </th> <td>-11921.579</td>\n",
       "</tr>\n",
       "<tr>\n",
       "  <th></th>                           <td>- 09-30-2024</td>           <th>                     </th>      <td> </td>    \n",
       "</tr>\n",
       "<tr>\n",
       "  <th>Covariance Type:</th>                <td>opg</td>               <th>                     </th>      <td> </td>    \n",
       "</tr>\n",
       "</table>\n",
       "<table class=\"simpletable\">\n",
       "<tr>\n",
       "      <td></td>        <th>coef</th>     <th>std err</th>      <th>z</th>      <th>P>|z|</th>  <th>[0.025</th>    <th>0.975]</th>  \n",
       "</tr>\n",
       "<tr>\n",
       "  <th>ar.L1</th>    <td>    1.9099</td> <td>    0.016</td> <td>  119.410</td> <td> 0.000</td> <td>    1.879</td> <td>    1.941</td>\n",
       "</tr>\n",
       "<tr>\n",
       "  <th>ar.L2</th>    <td>   -0.9155</td> <td>    0.016</td> <td>  -57.483</td> <td> 0.000</td> <td>   -0.947</td> <td>   -0.884</td>\n",
       "</tr>\n",
       "<tr>\n",
       "  <th>ma.L1</th>    <td>    0.1401</td> <td>    0.034</td> <td>    4.165</td> <td> 0.000</td> <td>    0.074</td> <td>    0.206</td>\n",
       "</tr>\n",
       "<tr>\n",
       "  <th>ma.L2</th>    <td>    0.1176</td> <td>    0.042</td> <td>    2.809</td> <td> 0.005</td> <td>    0.036</td> <td>    0.200</td>\n",
       "</tr>\n",
       "<tr>\n",
       "  <th>ma.S.L12</th> <td>   -0.6899</td> <td>    0.018</td> <td>  -38.146</td> <td> 0.000</td> <td>   -0.725</td> <td>   -0.654</td>\n",
       "</tr>\n",
       "<tr>\n",
       "  <th>sigma2</th>   <td> 1.275e-05</td> <td> 1.47e-07</td> <td>   86.591</td> <td> 0.000</td> <td> 1.25e-05</td> <td>  1.3e-05</td>\n",
       "</tr>\n",
       "</table>\n",
       "<table class=\"simpletable\">\n",
       "<tr>\n",
       "  <th>Ljung-Box (L1) (Q):</th>     <td>0.14</td> <th>  Jarque-Bera (JB):  </th> <td>56798.10</td>\n",
       "</tr>\n",
       "<tr>\n",
       "  <th>Prob(Q):</th>                <td>0.71</td> <th>  Prob(JB):          </th>   <td>0.00</td>  \n",
       "</tr>\n",
       "<tr>\n",
       "  <th>Heteroskedasticity (H):</th> <td>1.02</td> <th>  Skew:              </th>   <td>0.17</td>  \n",
       "</tr>\n",
       "<tr>\n",
       "  <th>Prob(H) (two-sided):</th>    <td>0.84</td> <th>  Kurtosis:          </th>   <td>33.99</td> \n",
       "</tr>\n",
       "</table><br/><br/>Warnings:<br/>[1] Covariance matrix calculated using the outer product of gradients (complex-step)."
      ],
      "text/latex": [
       "\\begin{center}\n",
       "\\begin{tabular}{lclc}\n",
       "\\toprule\n",
       "\\textbf{Dep. Variable:}          &                y                 & \\textbf{  No. Observations:  } &    1431     \\\\\n",
       "\\textbf{Model:}                  & SARIMAX(2, 0, 2)x(0, 1, [1], 12) & \\textbf{  Log Likelihood     } &  5972.682   \\\\\n",
       "\\textbf{Date:}                   &         Wed, 13 Aug 2025         & \\textbf{  AIC                } & -11933.363  \\\\\n",
       "\\textbf{Time:}                   &             18:05:38             & \\textbf{  BIC                } & -11901.817  \\\\\n",
       "\\textbf{Sample:}                 &            10-31-2020            & \\textbf{  HQIC               } & -11921.579  \\\\\n",
       "\\textbf{}                        &           - 09-30-2024           & \\textbf{                     } &             \\\\\n",
       "\\textbf{Covariance Type:}        &               opg                & \\textbf{                     } &             \\\\\n",
       "\\bottomrule\n",
       "\\end{tabular}\n",
       "\\begin{tabular}{lcccccc}\n",
       "                  & \\textbf{coef} & \\textbf{std err} & \\textbf{z} & \\textbf{P$> |$z$|$} & \\textbf{[0.025} & \\textbf{0.975]}  \\\\\n",
       "\\midrule\n",
       "\\textbf{ar.L1}    &       1.9099  &        0.016     &   119.410  &         0.000        &        1.879    &        1.941     \\\\\n",
       "\\textbf{ar.L2}    &      -0.9155  &        0.016     &   -57.483  &         0.000        &       -0.947    &       -0.884     \\\\\n",
       "\\textbf{ma.L1}    &       0.1401  &        0.034     &     4.165  &         0.000        &        0.074    &        0.206     \\\\\n",
       "\\textbf{ma.L2}    &       0.1176  &        0.042     &     2.809  &         0.005        &        0.036    &        0.200     \\\\\n",
       "\\textbf{ma.S.L12} &      -0.6899  &        0.018     &   -38.146  &         0.000        &       -0.725    &       -0.654     \\\\\n",
       "\\textbf{sigma2}   &    1.275e-05  &     1.47e-07     &    86.591  &         0.000        &     1.25e-05    &      1.3e-05     \\\\\n",
       "\\bottomrule\n",
       "\\end{tabular}\n",
       "\\begin{tabular}{lclc}\n",
       "\\textbf{Ljung-Box (L1) (Q):}     & 0.14 & \\textbf{  Jarque-Bera (JB):  } & 56798.10  \\\\\n",
       "\\textbf{Prob(Q):}                & 0.71 & \\textbf{  Prob(JB):          } &   0.00    \\\\\n",
       "\\textbf{Heteroskedasticity (H):} & 1.02 & \\textbf{  Skew:              } &   0.17    \\\\\n",
       "\\textbf{Prob(H) (two-sided):}    & 0.84 & \\textbf{  Kurtosis:          } &  33.99    \\\\\n",
       "\\bottomrule\n",
       "\\end{tabular}\n",
       "%\\caption{SARIMAX Results}\n",
       "\\end{center}\n",
       "\n",
       "Warnings: \\newline\n",
       " [1] Covariance matrix calculated using the outer product of gradients (complex-step)."
      ],
      "text/plain": [
       "<class 'statsmodels.iolib.summary.Summary'>\n",
       "\"\"\"\n",
       "                                      SARIMAX Results                                       \n",
       "============================================================================================\n",
       "Dep. Variable:                                    y   No. Observations:                 1431\n",
       "Model:             SARIMAX(2, 0, 2)x(0, 1, [1], 12)   Log Likelihood                5972.682\n",
       "Date:                              Wed, 13 Aug 2025   AIC                         -11933.363\n",
       "Time:                                      18:05:38   BIC                         -11901.817\n",
       "Sample:                                  10-31-2020   HQIC                        -11921.579\n",
       "                                       - 09-30-2024                                         \n",
       "Covariance Type:                                opg                                         \n",
       "==============================================================================\n",
       "                 coef    std err          z      P>|z|      [0.025      0.975]\n",
       "------------------------------------------------------------------------------\n",
       "ar.L1          1.9099      0.016    119.410      0.000       1.879       1.941\n",
       "ar.L2         -0.9155      0.016    -57.483      0.000      -0.947      -0.884\n",
       "ma.L1          0.1401      0.034      4.165      0.000       0.074       0.206\n",
       "ma.L2          0.1176      0.042      2.809      0.005       0.036       0.200\n",
       "ma.S.L12      -0.6899      0.018    -38.146      0.000      -0.725      -0.654\n",
       "sigma2      1.275e-05   1.47e-07     86.591      0.000    1.25e-05     1.3e-05\n",
       "===================================================================================\n",
       "Ljung-Box (L1) (Q):                   0.14   Jarque-Bera (JB):             56798.10\n",
       "Prob(Q):                              0.71   Prob(JB):                         0.00\n",
       "Heteroskedasticity (H):               1.02   Skew:                             0.17\n",
       "Prob(H) (two-sided):                  0.84   Kurtosis:                        33.99\n",
       "===================================================================================\n",
       "\n",
       "Warnings:\n",
       "[1] Covariance matrix calculated using the outer product of gradients (complex-step).\n",
       "\"\"\""
      ]
     },
     "execution_count": 27,
     "metadata": {},
     "output_type": "execute_result"
    }
   ],
   "source": [
    "# Autoregressive models\n",
    "\n",
    "\n",
    "# IMPORTANT: After running the above line, restart the kernel and run this cell again from here.\n",
    "\n",
    "from pmdarima import auto_arima\n",
    "\n",
    "import warnings\n",
    "warnings.filterwarnings(\"ignore\")\n",
    "\n",
    "# Fit auto_arima function to the interpolated price data\n",
    "stepwise_fit = auto_arima(df_interpolated['Prices'], start_p=1, start_q=1,\n",
    "                          max_p=3, max_q=3, m=12,\n",
    "                          start_P=0, seasonal=True,\n",
    "                          d=None, D=1, trace=True,\n",
    "                          error_action='ignore',   # we don't want to know if an order does not work\n",
    "                          suppress_warnings=True,  # we don't want convergence warnings\n",
    "                          stepwise=True)           # set to stepwise\n",
    "\n",
    "# To print the summary\n",
    "stepwise_fit.summary()"
   ]
  },
  {
   "cell_type": "code",
   "execution_count": 28,
   "id": "a9f12d10",
   "metadata": {},
   "outputs": [
    {
     "name": "stdout",
     "output_type": "stream",
     "text": [
      "Best order: (2, 0, 2), Best seasonal order: (0, 1, 1, 12)\n"
     ]
    }
   ],
   "source": [
    "best_order = stepwise_fit.order            # (p,d,q)\n",
    "best_seasonal_order = stepwise_fit.seasonal_order  # (P,D,Q,m)\n",
    "print(f\"Best order: {best_order}, Best seasonal order: {best_seasonal_order}\")"
   ]
  },
  {
   "cell_type": "code",
   "execution_count": 15,
   "id": "fc53f4fc",
   "metadata": {},
   "outputs": [
    {
     "ename": "NameError",
     "evalue": "name 'best_order' is not defined",
     "output_type": "error",
     "traceback": [
      "\u001b[31m---------------------------------------------------------------------------\u001b[39m",
      "\u001b[31mNameError\u001b[39m                                 Traceback (most recent call last)",
      "\u001b[36mCell\u001b[39m\u001b[36m \u001b[39m\u001b[32mIn[15]\u001b[39m\u001b[32m, line 3\u001b[39m\n\u001b[32m      1\u001b[39m \u001b[38;5;28;01mfrom\u001b[39;00m\u001b[38;5;250m \u001b[39m\u001b[34;01mstatsmodels\u001b[39;00m\u001b[34;01m.\u001b[39;00m\u001b[34;01mtsa\u001b[39;00m\u001b[34;01m.\u001b[39;00m\u001b[34;01mstatespace\u001b[39;00m\u001b[34;01m.\u001b[39;00m\u001b[34;01msarimax\u001b[39;00m\u001b[38;5;250m \u001b[39m\u001b[38;5;28;01mimport\u001b[39;00m SARIMAX\n\u001b[32m      2\u001b[39m \u001b[38;5;66;03m# Fit the SARIMAX model\u001b[39;00m\n\u001b[32m----> \u001b[39m\u001b[32m3\u001b[39m model = SARIMAX(train_data[\u001b[33m'\u001b[39m\u001b[33mPrices\u001b[39m\u001b[33m'\u001b[39m], order=\u001b[43mbest_order\u001b[49m, seasonal_order=best_seasonal_order,trend=\u001b[33m'\u001b[39m\u001b[33mt\u001b[39m\u001b[33m'\u001b[39m)\n\u001b[32m      4\u001b[39m model_fit = model.fit()\n",
      "\u001b[31mNameError\u001b[39m: name 'best_order' is not defined"
     ]
    }
   ],
   "source": [
    "from statsmodels.tsa.statespace.sarimax import SARIMAX\n",
    "# Fit the SARIMAX model\n",
    "model = SARIMAX(train_data['Prices'], order=best_order, seasonal_order=best_seasonal_order,trend='t')\n",
    "model_fit = model.fit()"
   ]
  },
  {
   "cell_type": "code",
   "execution_count": 30,
   "id": "4a04e5c9",
   "metadata": {},
   "outputs": [],
   "source": [
    "predictions=model_fit.predict(start=test_data.index[0], end=test_data.index[-1], dynamic=False)\n",
    "predicted_data = pd.DataFrame({'Predicted_Prices': predictions}, index=test_data.index) "
   ]
  },
  {
   "cell_type": "code",
   "execution_count": 31,
   "id": "adcf884e",
   "metadata": {},
   "outputs": [
    {
     "data": {
      "image/png": "[encoded data removed]",
      "text/plain": [
       "<Figure size 1200x600 with 1 Axes>"
      ]
     },
     "metadata": {},
     "output_type": "display_data"
    }
   ],
   "source": [
    "#plot predictions against actual prices\n",
    "import matplotlib.pyplot as plt\n",
    "\n",
    "plt.figure(figsize=(12, 6))\n",
    "#plt.plot(train_data.index, train_data['Prices'], label='Train Data')\n",
    "plt.plot(test_data.index, test_data['Prices'], label='Test Data')\n",
    "plt.plot(predicted_data.index, predicted_data['Predicted_Prices'], label='Predicted Prices', color='red')\n",
    "plt.legend()\n",
    "plt.title('Gas Prices: Actual vs Predicted')\n",
    "plt.show()"
   ]
  },
  {
   "cell_type": "code",
   "execution_count": null,
   "id": "8851b74c",
   "metadata": {},
   "outputs": [],
   "source": []
  },
  {
   "cell_type": "code",
   "execution_count": 32,
   "id": "fd9947b9",
   "metadata": {},
   "outputs": [
    {
     "name": "stdout",
     "output_type": "stream",
     "text": [
      "MAE: 1.6522897962120517, MSE: 3.535682376098109, RMSE: 1.880341026542289, R2: -13.579007602992771, MAPE: 0.1407791277034751\n"
     ]
    }
   ],
   "source": [
    "from sklearn.metrics import mean_absolute_error, mean_squared_error, r2_score, mean_absolute_percentage_error\n",
    "mae=mean_absolute_error(test_data['Prices'],predicted_data['Predicted_Prices'])\n",
    "mse=mean_squared_error(test_data['Prices'],predicted_data['Predicted_Prices'])\n",
    "rmse=np.sqrt(mse)\n",
    "r2=r2_score(test_data['Prices'],predicted_data['Predicted_Prices'])\n",
    "mape=mean_absolute_percentage_error(test_data['Prices'],predicted_data['Predicted_Prices'])\n",
    "print(f\"MAE: {mae}, MSE: {mse}, RMSE: {rmse}, R2: {r2}, MAPE: {mape}\")                     "
   ]
  },
  {
   "cell_type": "code",
   "execution_count": 33,
   "id": "f4b010f1",
   "metadata": {},
   "outputs": [],
   "source": [
    "best_model=ExponentialSmoothing(train_data['Prices'], trend='add',damped_trend=True, seasonal='add',seasonal_periods=365, initialization_method=\"legacy-heuristic\", use_boxcox=False)\n",
    "best_model_fit=best_model.fit()"
   ]
  },
  {
   "cell_type": "code",
   "execution_count": 34,
   "id": "fc441ba5",
   "metadata": {},
   "outputs": [
    {
     "data": {
      "text/html": [
       "<div>\n",
       "<style scoped>\n",
       "    .dataframe tbody tr th:only-of-type {\n",
       "        vertical-align: middle;\n",
       "    }\n",
       "\n",
       "    .dataframe tbody tr th {\n",
       "        vertical-align: top;\n",
       "    }\n",
       "\n",
       "    .dataframe thead th {\n",
       "        text-align: right;\n",
       "    }\n",
       "</style>\n",
       "<table border=\"1\" class=\"dataframe\">\n",
       "  <thead>\n",
       "    <tr style=\"text-align: right;\">\n",
       "      <th></th>\n",
       "      <th>Prices</th>\n",
       "    </tr>\n",
       "    <tr>\n",
       "      <th>Dates</th>\n",
       "      <th></th>\n",
       "    </tr>\n",
       "  </thead>\n",
       "  <tbody>\n",
       "    <tr>\n",
       "      <th>2024-09-30</th>\n",
       "      <td>12.794840</td>\n",
       "    </tr>\n",
       "    <tr>\n",
       "      <th>2024-10-01</th>\n",
       "      <td>12.787666</td>\n",
       "    </tr>\n",
       "    <tr>\n",
       "      <th>2024-10-02</th>\n",
       "      <td>12.781550</td>\n",
       "    </tr>\n",
       "    <tr>\n",
       "      <th>2024-10-03</th>\n",
       "      <td>12.775671</td>\n",
       "    </tr>\n",
       "    <tr>\n",
       "      <th>2024-10-04</th>\n",
       "      <td>12.769900</td>\n",
       "    </tr>\n",
       "    <tr>\n",
       "      <th>...</th>\n",
       "      <td>...</td>\n",
       "    </tr>\n",
       "    <tr>\n",
       "      <th>2025-09-25</th>\n",
       "      <td>12.642651</td>\n",
       "    </tr>\n",
       "    <tr>\n",
       "      <th>2025-09-26</th>\n",
       "      <td>12.665232</td>\n",
       "    </tr>\n",
       "    <tr>\n",
       "      <th>2025-09-27</th>\n",
       "      <td>12.687812</td>\n",
       "    </tr>\n",
       "    <tr>\n",
       "      <th>2025-09-28</th>\n",
       "      <td>12.710393</td>\n",
       "    </tr>\n",
       "    <tr>\n",
       "      <th>2025-09-29</th>\n",
       "      <td>12.732976</td>\n",
       "    </tr>\n",
       "  </tbody>\n",
       "</table>\n",
       "<p>365 rows × 1 columns</p>\n",
       "</div>"
      ],
      "text/plain": [
       "               Prices\n",
       "Dates                \n",
       "2024-09-30  12.794840\n",
       "2024-10-01  12.787666\n",
       "2024-10-02  12.781550\n",
       "2024-10-03  12.775671\n",
       "2024-10-04  12.769900\n",
       "...               ...\n",
       "2025-09-25  12.642651\n",
       "2025-09-26  12.665232\n",
       "2025-09-27  12.687812\n",
       "2025-09-28  12.710393\n",
       "2025-09-29  12.732976\n",
       "\n",
       "[365 rows x 1 columns]"
      ]
     },
     "execution_count": 34,
     "metadata": {},
     "output_type": "execute_result"
    }
   ],
   "source": [
    "from statsmodels.tsa.holtwinters import ExponentialSmoothing\n",
    "\n",
    "\n",
    "#Generate future dates for the next year (12 months)\n",
    "future_dates=pd.date_range(start=df_interpolated.index[-1],periods=365,freq='d')\n",
    "\n",
    "#Forecast future prices for 12 months\n",
    "future_prices=best_model_fit.forecast(steps=365)\n",
    "\n",
    "#create a dataframe for future prices\n",
    "future_df=pd.DataFrame({'Dates':future_dates, 'Prices':future_prices})\n",
    "future_df.set_index('Dates',inplace=True)\n",
    "\n",
    "future_df"
   ]
  },
  {
   "cell_type": "code",
   "execution_count": 35,
   "id": "941b7f04",
   "metadata": {},
   "outputs": [],
   "source": [
    "def estimate_gas_price(input_date):\n",
    "    \n",
    "    #check if date is in the past or present\n",
    "    if input_date in df_interpolated.index:\n",
    "        return df_interpolated.loc[input_date]['Prices']\n",
    "    \n",
    "    #check if the date is in the future (within the extrapolated range )\n",
    "    elif input_date in future_df.index:\n",
    "        return future_df.loc[input_date]['Prices']\n",
    "    else:\n",
    "        return \"Date is out of range for estimation\"\n",
    "    "
   ]
  },
  {
   "cell_type": "code",
   "execution_count": 36,
   "id": "4a3ea8f2",
   "metadata": {},
   "outputs": [
    {
     "name": "stdout",
     "output_type": "stream",
     "text": [
      "Estimated price on 2025-09-15: 12.416844696167347\n"
     ]
    }
   ],
   "source": [
    "input_date='2025-09-15'\n",
    "price_estimate=estimate_gas_price(input_date)\n",
    "print(f\"Estimated price on {input_date}: {price_estimate}\")"
   ]
  },
  {
   "cell_type": "code",
   "execution_count": 37,
   "id": "e7663bb1",
   "metadata": {},
   "outputs": [
    {
     "data": {
      "image/png": "[encoded data removed]",
      "text/plain": [
       "<Figure size 1200x600 with 1 Axes>"
      ]
     },
     "metadata": {},
     "output_type": "display_data"
    }
   ],
   "source": [
    "#plot predictions against actual prices\n",
    "import matplotlib.pyplot as plt\n",
    "\n",
    "plt.figure(figsize=(12, 6))\n",
    "#plt.plot(train_data.index, train_data['Prices'], label='Train Data')\n",
    "plt.plot(df_interpolated.index, df_interpolated['Prices'], label='Past Data')\n",
    "plt.plot(future_df.index, future_df['Prices'], label='Future Prices', color='red')\n",
    "plt.legend()\n",
    "plt.title('Gas Prices: Past vs Future')\n",
    "plt.show()"
   ]
  },
  {
   "cell_type": "code",
   "execution_count": null,
   "id": "d2df81e3",
   "metadata": {},
   "outputs": [],
   "source": []
  },
  {
   "cell_type": "code",
   "execution_count": null,
   "id": "1c213c2e",
   "metadata": {},
   "outputs": [],
   "source": []
  },
  {
   "cell_type": "markdown",
   "id": "fc4d7767",
   "metadata": {},
   "source": [
    "FROM HERE"
   ]
  },
  {
   "cell_type": "code",
   "execution_count": 16,
   "id": "64641cc6",
   "metadata": {},
   "outputs": [],
   "source": [
    "from statsmodels.tsa.holtwinters import ExponentialSmoothing\n",
    "from statsmodels.tsa.statespace.sarimax import SARIMAX\n",
    "\n",
    "models = {\"Exponential Smoothing\": ExponentialSmoothing,\"SARIMAX\": SARIMAX}\n",
    "params={\"Exponential Smoothing\": {\n",
    "                    'trend':['add', 'mul'],\n",
    "                    'damped_trend':[True, False],\n",
    "                    'seasonal':['add', 'mul'],\n",
    "                    'seasonal_periods':[365],\n",
    "                    'initialization_method':[\"legacy-heuristic\", 'estimated','heuristic',None],\n",
    "                    'use_boxcox':[False, True]\n",
    "                },\n",
    "        \"SARIMAX\": {\n",
    "                    'order': (2, 0, 2),\n",
    "                    'seasonal_order': (0, 1, 1, 12)\n",
    "\n",
    "                }\n",
    "                }"
   ]
  },
  {
   "cell_type": "code",
   "execution_count": 17,
   "id": "9c015139",
   "metadata": {},
   "outputs": [],
   "source": [
    "train_data=df_interpolated[:'2023-12-31']['Prices']\n",
    "test_data=df_interpolated['2024-01-01':]['Prices']"
   ]
  },
  {
   "cell_type": "code",
   "execution_count": 18,
   "id": "8d7019ff",
   "metadata": {},
   "outputs": [
    {
     "name": "stdout",
     "output_type": "stream",
     "text": [
      "Model: Exponential Smoothing, MAPE: 0.014662456216409, Params: {'trend': 'add', 'damped_trend': True, 'seasonal': 'add', 'seasonal_periods': 365, 'initialization_method': 'legacy-heuristic', 'use_boxcox': False}\n",
      "Model: Exponential Smoothing, MAPE: 0.03724401634095469, Params: {'trend': 'add', 'damped_trend': True, 'seasonal': 'add', 'seasonal_periods': 365, 'initialization_method': 'legacy-heuristic', 'use_boxcox': True}\n"
     ]
    },
    {
     "name": "stderr",
     "output_type": "stream",
     "text": [
      "/Users/olasuaifan/opt/anaconda3/envs/quant/lib/python3.11/site-packages/statsmodels/tsa/holtwinters/model.py:903: ConvergenceWarning:\n",
      "\n",
      "Optimization failed to converge. Check mle_retvals.\n",
      "\n"
     ]
    },
    {
     "name": "stdout",
     "output_type": "stream",
     "text": [
      "Model: Exponential Smoothing, MAPE: 0.05430796879811058, Params: {'trend': 'add', 'damped_trend': True, 'seasonal': 'add', 'seasonal_periods': 365, 'initialization_method': 'estimated', 'use_boxcox': False}\n",
      "Model: Exponential Smoothing, MAPE: 0.07290677819731405, Params: {'trend': 'add', 'damped_trend': True, 'seasonal': 'add', 'seasonal_periods': 365, 'initialization_method': 'estimated', 'use_boxcox': True}\n",
      "Model: Exponential Smoothing, MAPE: 0.04586163902114372, Params: {'trend': 'add', 'damped_trend': True, 'seasonal': 'add', 'seasonal_periods': 365, 'initialization_method': 'heuristic', 'use_boxcox': False}\n",
      "Model: Exponential Smoothing, MAPE: 0.10799706411458743, Params: {'trend': 'add', 'damped_trend': True, 'seasonal': 'add', 'seasonal_periods': 365, 'initialization_method': 'heuristic', 'use_boxcox': True}\n",
      "Model: Exponential Smoothing, MAPE: 0.014662456216409, Params: {'trend': 'add', 'damped_trend': True, 'seasonal': 'add', 'seasonal_periods': 365, 'initialization_method': None, 'use_boxcox': False}\n",
      "Model: Exponential Smoothing, MAPE: 0.03724401634095469, Params: {'trend': 'add', 'damped_trend': True, 'seasonal': 'add', 'seasonal_periods': 365, 'initialization_method': None, 'use_boxcox': True}\n",
      "Model: Exponential Smoothing, MAPE: 0.0079300348713607, Params: {'trend': 'add', 'damped_trend': True, 'seasonal': 'mul', 'seasonal_periods': 365, 'initialization_method': 'legacy-heuristic', 'use_boxcox': False}\n",
      "Model: Exponential Smoothing, MAPE: 0.04204767175649949, Params: {'trend': 'add', 'damped_trend': True, 'seasonal': 'mul', 'seasonal_periods': 365, 'initialization_method': 'legacy-heuristic', 'use_boxcox': True}\n"
     ]
    },
    {
     "name": "stderr",
     "output_type": "stream",
     "text": [
      "/Users/olasuaifan/opt/anaconda3/envs/quant/lib/python3.11/site-packages/statsmodels/tsa/holtwinters/model.py:903: ConvergenceWarning:\n",
      "\n",
      "Optimization failed to converge. Check mle_retvals.\n",
      "\n"
     ]
    },
    {
     "name": "stdout",
     "output_type": "stream",
     "text": [
      "Model: Exponential Smoothing, MAPE: 0.06708013627194817, Params: {'trend': 'add', 'damped_trend': True, 'seasonal': 'mul', 'seasonal_periods': 365, 'initialization_method': 'estimated', 'use_boxcox': False}\n",
      "Model: Exponential Smoothing, MAPE: 0.0701294366051028, Params: {'trend': 'add', 'damped_trend': True, 'seasonal': 'mul', 'seasonal_periods': 365, 'initialization_method': 'estimated', 'use_boxcox': True}\n",
      "Model: Exponential Smoothing, MAPE: 0.038360811345666, Params: {'trend': 'add', 'damped_trend': True, 'seasonal': 'mul', 'seasonal_periods': 365, 'initialization_method': 'heuristic', 'use_boxcox': False}\n",
      "Model: Exponential Smoothing, MAPE: 0.10508696453826852, Params: {'trend': 'add', 'damped_trend': True, 'seasonal': 'mul', 'seasonal_periods': 365, 'initialization_method': 'heuristic', 'use_boxcox': True}\n",
      "Model: Exponential Smoothing, MAPE: 0.0079300348713607, Params: {'trend': 'add', 'damped_trend': True, 'seasonal': 'mul', 'seasonal_periods': 365, 'initialization_method': None, 'use_boxcox': False}\n",
      "Model: Exponential Smoothing, MAPE: 0.04204767175649949, Params: {'trend': 'add', 'damped_trend': True, 'seasonal': 'mul', 'seasonal_periods': 365, 'initialization_method': None, 'use_boxcox': True}\n",
      "Model: Exponential Smoothing, MAPE: 0.01980430751641655, Params: {'trend': 'add', 'damped_trend': False, 'seasonal': 'add', 'seasonal_periods': 365, 'initialization_method': 'legacy-heuristic', 'use_boxcox': False}\n",
      "Model: Exponential Smoothing, MAPE: 0.08053039827814353, Params: {'trend': 'add', 'damped_trend': False, 'seasonal': 'add', 'seasonal_periods': 365, 'initialization_method': 'legacy-heuristic', 'use_boxcox': True}\n"
     ]
    },
    {
     "name": "stderr",
     "output_type": "stream",
     "text": [
      "/Users/olasuaifan/opt/anaconda3/envs/quant/lib/python3.11/site-packages/statsmodels/tsa/holtwinters/model.py:903: ConvergenceWarning:\n",
      "\n",
      "Optimization failed to converge. Check mle_retvals.\n",
      "\n"
     ]
    },
    {
     "name": "stdout",
     "output_type": "stream",
     "text": [
      "Model: Exponential Smoothing, MAPE: 0.1753491683717347, Params: {'trend': 'add', 'damped_trend': False, 'seasonal': 'add', 'seasonal_periods': 365, 'initialization_method': 'estimated', 'use_boxcox': False}\n",
      "Model: Exponential Smoothing, MAPE: 0.14489782464547651, Params: {'trend': 'add', 'damped_trend': False, 'seasonal': 'add', 'seasonal_periods': 365, 'initialization_method': 'estimated', 'use_boxcox': True}\n",
      "Model: Exponential Smoothing, MAPE: 0.22797649123512106, Params: {'trend': 'add', 'damped_trend': False, 'seasonal': 'add', 'seasonal_periods': 365, 'initialization_method': 'heuristic', 'use_boxcox': False}\n",
      "Model: Exponential Smoothing, MAPE: 0.23439085947800206, Params: {'trend': 'add', 'damped_trend': False, 'seasonal': 'add', 'seasonal_periods': 365, 'initialization_method': 'heuristic', 'use_boxcox': True}\n",
      "Model: Exponential Smoothing, MAPE: 0.01980430751641655, Params: {'trend': 'add', 'damped_trend': False, 'seasonal': 'add', 'seasonal_periods': 365, 'initialization_method': None, 'use_boxcox': False}\n",
      "Model: Exponential Smoothing, MAPE: 0.08053039827814353, Params: {'trend': 'add', 'damped_trend': False, 'seasonal': 'add', 'seasonal_periods': 365, 'initialization_method': None, 'use_boxcox': True}\n",
      "Model: Exponential Smoothing, MAPE: 0.0644380988797864, Params: {'trend': 'add', 'damped_trend': False, 'seasonal': 'mul', 'seasonal_periods': 365, 'initialization_method': 'legacy-heuristic', 'use_boxcox': False}\n",
      "Model: Exponential Smoothing, MAPE: 0.08795917765084682, Params: {'trend': 'add', 'damped_trend': False, 'seasonal': 'mul', 'seasonal_periods': 365, 'initialization_method': 'legacy-heuristic', 'use_boxcox': True}\n"
     ]
    },
    {
     "name": "stderr",
     "output_type": "stream",
     "text": [
      "/Users/olasuaifan/opt/anaconda3/envs/quant/lib/python3.11/site-packages/statsmodels/tsa/holtwinters/model.py:903: ConvergenceWarning:\n",
      "\n",
      "Optimization failed to converge. Check mle_retvals.\n",
      "\n"
     ]
    },
    {
     "name": "stdout",
     "output_type": "stream",
     "text": [
      "Model: Exponential Smoothing, MAPE: 0.1519110593172037, Params: {'trend': 'add', 'damped_trend': False, 'seasonal': 'mul', 'seasonal_periods': 365, 'initialization_method': 'estimated', 'use_boxcox': False}\n",
      "Model: Exponential Smoothing, MAPE: 0.14002411305444817, Params: {'trend': 'add', 'damped_trend': False, 'seasonal': 'mul', 'seasonal_periods': 365, 'initialization_method': 'estimated', 'use_boxcox': True}\n",
      "Model: Exponential Smoothing, MAPE: 0.20585047439848225, Params: {'trend': 'add', 'damped_trend': False, 'seasonal': 'mul', 'seasonal_periods': 365, 'initialization_method': 'heuristic', 'use_boxcox': False}\n",
      "Model: Exponential Smoothing, MAPE: 0.22796729000699353, Params: {'trend': 'add', 'damped_trend': False, 'seasonal': 'mul', 'seasonal_periods': 365, 'initialization_method': 'heuristic', 'use_boxcox': True}\n",
      "Model: Exponential Smoothing, MAPE: 0.0644380988797864, Params: {'trend': 'add', 'damped_trend': False, 'seasonal': 'mul', 'seasonal_periods': 365, 'initialization_method': None, 'use_boxcox': False}\n",
      "Model: Exponential Smoothing, MAPE: 0.08795917765084682, Params: {'trend': 'add', 'damped_trend': False, 'seasonal': 'mul', 'seasonal_periods': 365, 'initialization_method': None, 'use_boxcox': True}\n",
      "Model: Exponential Smoothing, MAPE: 0.008591247063152096, Params: {'trend': 'mul', 'damped_trend': True, 'seasonal': 'add', 'seasonal_periods': 365, 'initialization_method': 'legacy-heuristic', 'use_boxcox': False}\n",
      "Model: Exponential Smoothing, MAPE: 0.052818986068471456, Params: {'trend': 'mul', 'damped_trend': True, 'seasonal': 'add', 'seasonal_periods': 365, 'initialization_method': 'legacy-heuristic', 'use_boxcox': True}\n"
     ]
    },
    {
     "name": "stderr",
     "output_type": "stream",
     "text": [
      "/Users/olasuaifan/opt/anaconda3/envs/quant/lib/python3.11/site-packages/statsmodels/tsa/holtwinters/model.py:903: ConvergenceWarning:\n",
      "\n",
      "Optimization failed to converge. Check mle_retvals.\n",
      "\n"
     ]
    },
    {
     "name": "stdout",
     "output_type": "stream",
     "text": [
      "Model: Exponential Smoothing, MAPE: 0.13790885246044635, Params: {'trend': 'mul', 'damped_trend': True, 'seasonal': 'add', 'seasonal_periods': 365, 'initialization_method': 'estimated', 'use_boxcox': False}\n"
     ]
    },
    {
     "name": "stderr",
     "output_type": "stream",
     "text": [
      "/Users/olasuaifan/opt/anaconda3/envs/quant/lib/python3.11/site-packages/statsmodels/tsa/holtwinters/model.py:903: ConvergenceWarning:\n",
      "\n",
      "Optimization failed to converge. Check mle_retvals.\n",
      "\n"
     ]
    },
    {
     "name": "stdout",
     "output_type": "stream",
     "text": [
      "Model: Exponential Smoothing, MAPE: 0.7477921168054593, Params: {'trend': 'mul', 'damped_trend': True, 'seasonal': 'add', 'seasonal_periods': 365, 'initialization_method': 'estimated', 'use_boxcox': True}\n",
      "Model: Exponential Smoothing, MAPE: 0.16991996562747672, Params: {'trend': 'mul', 'damped_trend': True, 'seasonal': 'add', 'seasonal_periods': 365, 'initialization_method': 'heuristic', 'use_boxcox': False}\n",
      "Model: Exponential Smoothing, MAPE: 0.15123742410713525, Params: {'trend': 'mul', 'damped_trend': True, 'seasonal': 'add', 'seasonal_periods': 365, 'initialization_method': 'heuristic', 'use_boxcox': True}\n",
      "Model: Exponential Smoothing, MAPE: 0.008591247063152096, Params: {'trend': 'mul', 'damped_trend': True, 'seasonal': 'add', 'seasonal_periods': 365, 'initialization_method': None, 'use_boxcox': False}\n",
      "Model: Exponential Smoothing, MAPE: 0.052818986068471456, Params: {'trend': 'mul', 'damped_trend': True, 'seasonal': 'add', 'seasonal_periods': 365, 'initialization_method': None, 'use_boxcox': True}\n",
      "Model: Exponential Smoothing, MAPE: 0.007936161200135948, Params: {'trend': 'mul', 'damped_trend': True, 'seasonal': 'mul', 'seasonal_periods': 365, 'initialization_method': 'legacy-heuristic', 'use_boxcox': False}\n",
      "Model: Exponential Smoothing, MAPE: 0.04180629412620141, Params: {'trend': 'mul', 'damped_trend': True, 'seasonal': 'mul', 'seasonal_periods': 365, 'initialization_method': 'legacy-heuristic', 'use_boxcox': True}\n"
     ]
    },
    {
     "name": "stderr",
     "output_type": "stream",
     "text": [
      "/Users/olasuaifan/opt/anaconda3/envs/quant/lib/python3.11/site-packages/statsmodels/tsa/holtwinters/model.py:903: ConvergenceWarning:\n",
      "\n",
      "Optimization failed to converge. Check mle_retvals.\n",
      "\n"
     ]
    },
    {
     "name": "stdout",
     "output_type": "stream",
     "text": [
      "Model: Exponential Smoothing, MAPE: 0.07000265704093744, Params: {'trend': 'mul', 'damped_trend': True, 'seasonal': 'mul', 'seasonal_periods': 365, 'initialization_method': 'estimated', 'use_boxcox': False}\n",
      "Model: Exponential Smoothing, MAPE: 0.07030821796323472, Params: {'trend': 'mul', 'damped_trend': True, 'seasonal': 'mul', 'seasonal_periods': 365, 'initialization_method': 'estimated', 'use_boxcox': True}\n",
      "Model: Exponential Smoothing, MAPE: 0.038481306291817716, Params: {'trend': 'mul', 'damped_trend': True, 'seasonal': 'mul', 'seasonal_periods': 365, 'initialization_method': 'heuristic', 'use_boxcox': False}\n",
      "Model: Exponential Smoothing, MAPE: 0.10600436508578087, Params: {'trend': 'mul', 'damped_trend': True, 'seasonal': 'mul', 'seasonal_periods': 365, 'initialization_method': 'heuristic', 'use_boxcox': True}\n",
      "Model: Exponential Smoothing, MAPE: 0.007936161200135948, Params: {'trend': 'mul', 'damped_trend': True, 'seasonal': 'mul', 'seasonal_periods': 365, 'initialization_method': None, 'use_boxcox': False}\n",
      "Model: Exponential Smoothing, MAPE: 0.04180629412620141, Params: {'trend': 'mul', 'damped_trend': True, 'seasonal': 'mul', 'seasonal_periods': 365, 'initialization_method': None, 'use_boxcox': True}\n",
      "Model: Exponential Smoothing, MAPE: 0.018946517202147697, Params: {'trend': 'mul', 'damped_trend': False, 'seasonal': 'add', 'seasonal_periods': 365, 'initialization_method': 'legacy-heuristic', 'use_boxcox': False}\n",
      "Model: Exponential Smoothing, MAPE: 0.07960197504441296, Params: {'trend': 'mul', 'damped_trend': False, 'seasonal': 'add', 'seasonal_periods': 365, 'initialization_method': 'legacy-heuristic', 'use_boxcox': True}\n"
     ]
    },
    {
     "name": "stderr",
     "output_type": "stream",
     "text": [
      "/Users/olasuaifan/opt/anaconda3/envs/quant/lib/python3.11/site-packages/statsmodels/tsa/holtwinters/model.py:903: ConvergenceWarning:\n",
      "\n",
      "Optimization failed to converge. Check mle_retvals.\n",
      "\n"
     ]
    },
    {
     "name": "stdout",
     "output_type": "stream",
     "text": [
      "Model: Exponential Smoothing, MAPE: 0.1950181548378058, Params: {'trend': 'mul', 'damped_trend': False, 'seasonal': 'add', 'seasonal_periods': 365, 'initialization_method': 'estimated', 'use_boxcox': False}\n",
      "Model: Exponential Smoothing, MAPE: 0.1514075170474015, Params: {'trend': 'mul', 'damped_trend': False, 'seasonal': 'add', 'seasonal_periods': 365, 'initialization_method': 'estimated', 'use_boxcox': True}\n",
      "Model: Exponential Smoothing, MAPE: 0.257540444315146, Params: {'trend': 'mul', 'damped_trend': False, 'seasonal': 'add', 'seasonal_periods': 365, 'initialization_method': 'heuristic', 'use_boxcox': False}\n",
      "Model: Exponential Smoothing, MAPE: 0.2408813833348753, Params: {'trend': 'mul', 'damped_trend': False, 'seasonal': 'add', 'seasonal_periods': 365, 'initialization_method': 'heuristic', 'use_boxcox': True}\n",
      "Model: Exponential Smoothing, MAPE: 0.018946517202147697, Params: {'trend': 'mul', 'damped_trend': False, 'seasonal': 'add', 'seasonal_periods': 365, 'initialization_method': None, 'use_boxcox': False}\n",
      "Model: Exponential Smoothing, MAPE: 0.07960197504441296, Params: {'trend': 'mul', 'damped_trend': False, 'seasonal': 'add', 'seasonal_periods': 365, 'initialization_method': None, 'use_boxcox': True}\n",
      "Model: Exponential Smoothing, MAPE: 0.0607973355541529, Params: {'trend': 'mul', 'damped_trend': False, 'seasonal': 'mul', 'seasonal_periods': 365, 'initialization_method': 'legacy-heuristic', 'use_boxcox': False}\n",
      "Model: Exponential Smoothing, MAPE: 0.08689479435360223, Params: {'trend': 'mul', 'damped_trend': False, 'seasonal': 'mul', 'seasonal_periods': 365, 'initialization_method': 'legacy-heuristic', 'use_boxcox': True}\n"
     ]
    },
    {
     "name": "stderr",
     "output_type": "stream",
     "text": [
      "/Users/olasuaifan/opt/anaconda3/envs/quant/lib/python3.11/site-packages/statsmodels/tsa/holtwinters/model.py:903: ConvergenceWarning:\n",
      "\n",
      "Optimization failed to converge. Check mle_retvals.\n",
      "\n"
     ]
    },
    {
     "name": "stdout",
     "output_type": "stream",
     "text": [
      "Model: Exponential Smoothing, MAPE: 0.160635554451207, Params: {'trend': 'mul', 'damped_trend': False, 'seasonal': 'mul', 'seasonal_periods': 365, 'initialization_method': 'estimated', 'use_boxcox': False}\n",
      "Model: Exponential Smoothing, MAPE: 0.1445334407071651, Params: {'trend': 'mul', 'damped_trend': False, 'seasonal': 'mul', 'seasonal_periods': 365, 'initialization_method': 'estimated', 'use_boxcox': True}\n",
      "Model: Exponential Smoothing, MAPE: 0.23120623124927886, Params: {'trend': 'mul', 'damped_trend': False, 'seasonal': 'mul', 'seasonal_periods': 365, 'initialization_method': 'heuristic', 'use_boxcox': False}\n",
      "Model: Exponential Smoothing, MAPE: 0.23417510930545374, Params: {'trend': 'mul', 'damped_trend': False, 'seasonal': 'mul', 'seasonal_periods': 365, 'initialization_method': 'heuristic', 'use_boxcox': True}\n",
      "Model: Exponential Smoothing, MAPE: 0.0607973355541529, Params: {'trend': 'mul', 'damped_trend': False, 'seasonal': 'mul', 'seasonal_periods': 365, 'initialization_method': None, 'use_boxcox': False}\n",
      "Model: Exponential Smoothing, MAPE: 0.08689479435360223, Params: {'trend': 'mul', 'damped_trend': False, 'seasonal': 'mul', 'seasonal_periods': 365, 'initialization_method': None, 'use_boxcox': True}\n"
     ]
    },
    {
     "name": "stderr",
     "output_type": "stream",
     "text": [
      "/Users/olasuaifan/opt/anaconda3/envs/quant/lib/python3.11/site-packages/statsmodels/tsa/statespace/sarimax.py:1009: UserWarning:\n",
      "\n",
      "Non-invertible starting seasonal moving average Using zeros as starting parameters.\n",
      "\n"
     ]
    },
    {
     "name": "stdout",
     "output_type": "stream",
     "text": [
      "Model: SARIMAX, MAPE: 0.05063245131336656, Params: {'trend': 'mul', 'damped_trend': False, 'seasonal': 'mul', 'seasonal_periods': 365, 'initialization_method': None, 'use_boxcox': True}\n"
     ]
    }
   ],
   "source": [
    "from itertools import product\n",
    "\n",
    "results = {}\n",
    "report = {}\n",
    "i=1\n",
    "\n",
    "for model_name, model_class in models.items():\n",
    "    if model_name == \"Exponential Smoothing\":\n",
    "\n",
    "        param_grid = params[model_name]\n",
    "        keys, values = zip(*param_grid.items())\n",
    "        for v in product(*values):\n",
    "            param_dict = dict(zip(keys, v))\n",
    "\n",
    "\n",
    "            try:\n",
    "                model = model_class(train_data, **param_dict)\n",
    "                model_fit = model.fit()\n",
    "                pred = model_fit.forecast(steps=len(test_data))\n",
    "                predicted_data = pd.DataFrame({'Predicted_Prices': pred}, index=test_data.index)\n",
    "                mape = mean_absolute_percentage_error(test_data, pred)\n",
    "                r2= r2_score(test_data, pred)\n",
    "                print(f\"Model: {model_name}, MAPE: {mape}, Params: {param_dict}\")\n",
    "                #save all models reports\n",
    "\n",
    "                report[f\"{model_name}_{i}\"] = {\"class\": model_class, \"mape\": mape,\"r2\":r2, \"params\": param_dict}\n",
    "                i += 1\n",
    "\n",
    "            except Exception as e:\n",
    "                continue\n",
    "    elif model_name == \"SARIMAX\":\n",
    "\n",
    "\n",
    "        try:\n",
    "                model = model_class(train_data, order=params[model_name]['order'], seasonal_order=params[model_name]['seasonal_order'])\n",
    "                model_fit = model.fit(disp=False)\n",
    "                pred = model_fit.forecast(steps=len(test_data))\n",
    "                predicted_data = pd.DataFrame({'Predicted_Prices': pred}, index=test_data.index)\n",
    "                mape = mean_absolute_percentage_error(test_data, pred)\n",
    "                r2= r2_score(test_data, pred)\n",
    "                print(f\"Model: {model_name}, MAPE: {mape}, Params: {param_dict}\")\n",
    "                \n",
    "                #save all models reports\n",
    "                report[f\"{model_name}_{i}\"] = {\"class\": model_class, \"mape\": mape, \"r2\": r2, \"params\": param_dict}\n",
    "                i += 1\n",
    "\n",
    "        except Exception as e:\n",
    "            continue\n",
    "    \n",
    "\n",
    "\n",
    "    "
   ]
  },
  {
   "cell_type": "code",
   "execution_count": 19,
   "id": "c7b6e860",
   "metadata": {},
   "outputs": [
    {
     "name": "stdout",
     "output_type": "stream",
     "text": [
      "{'Exponential Smoothing_1': {'class': <class 'statsmodels.tsa.holtwinters.model.ExponentialSmoothing'>, 'mape': 0.014662456216409, 'r2': 0.8024542574599616, 'params': {'trend': 'add', 'damped_trend': True, 'seasonal': 'add', 'seasonal_periods': 365, 'initialization_method': 'legacy-heuristic', 'use_boxcox': False}}, 'Exponential Smoothing_2': {'class': <class 'statsmodels.tsa.holtwinters.model.ExponentialSmoothing'>, 'mape': 0.03724401634095469, 'r2': 0.02460649363661427, 'params': {'trend': 'add', 'damped_trend': True, 'seasonal': 'add', 'seasonal_periods': 365, 'initialization_method': 'legacy-heuristic', 'use_boxcox': True}}, 'Exponential Smoothing_3': {'class': <class 'statsmodels.tsa.holtwinters.model.ExponentialSmoothing'>, 'mape': 0.05430796879811058, 'r2': -0.8327980953683389, 'params': {'trend': 'add', 'damped_trend': True, 'seasonal': 'add', 'seasonal_periods': 365, 'initialization_method': 'estimated', 'use_boxcox': False}}, 'Exponential Smoothing_4': {'class': <class 'statsmodels.tsa.holtwinters.model.ExponentialSmoothing'>, 'mape': 0.07290677819731405, 'r2': -2.292202834389461, 'params': {'trend': 'add', 'damped_trend': True, 'seasonal': 'add', 'seasonal_periods': 365, 'initialization_method': 'estimated', 'use_boxcox': True}}, 'Exponential Smoothing_5': {'class': <class 'statsmodels.tsa.holtwinters.model.ExponentialSmoothing'>, 'mape': 0.04586163902114372, 'r2': -0.3237178505617555, 'params': {'trend': 'add', 'damped_trend': True, 'seasonal': 'add', 'seasonal_periods': 365, 'initialization_method': 'heuristic', 'use_boxcox': False}}, 'Exponential Smoothing_6': {'class': <class 'statsmodels.tsa.holtwinters.model.ExponentialSmoothing'>, 'mape': 0.10799706411458743, 'r2': -6.24550594518035, 'params': {'trend': 'add', 'damped_trend': True, 'seasonal': 'add', 'seasonal_periods': 365, 'initialization_method': 'heuristic', 'use_boxcox': True}}, 'Exponential Smoothing_7': {'class': <class 'statsmodels.tsa.holtwinters.model.ExponentialSmoothing'>, 'mape': 0.014662456216409, 'r2': 0.8024542574599616, 'params': {'trend': 'add', 'damped_trend': True, 'seasonal': 'add', 'seasonal_periods': 365, 'initialization_method': None, 'use_boxcox': False}}, 'Exponential Smoothing_8': {'class': <class 'statsmodels.tsa.holtwinters.model.ExponentialSmoothing'>, 'mape': 0.03724401634095469, 'r2': 0.02460649363661427, 'params': {'trend': 'add', 'damped_trend': True, 'seasonal': 'add', 'seasonal_periods': 365, 'initialization_method': None, 'use_boxcox': True}}, 'Exponential Smoothing_9': {'class': <class 'statsmodels.tsa.holtwinters.model.ExponentialSmoothing'>, 'mape': 0.0079300348713607, 'r2': 0.935679622644676, 'params': {'trend': 'add', 'damped_trend': True, 'seasonal': 'mul', 'seasonal_periods': 365, 'initialization_method': 'legacy-heuristic', 'use_boxcox': False}}, 'Exponential Smoothing_10': {'class': <class 'statsmodels.tsa.holtwinters.model.ExponentialSmoothing'>, 'mape': 0.04204767175649949, 'r2': -0.2274239298948857, 'params': {'trend': 'add', 'damped_trend': True, 'seasonal': 'mul', 'seasonal_periods': 365, 'initialization_method': 'legacy-heuristic', 'use_boxcox': True}}, 'Exponential Smoothing_11': {'class': <class 'statsmodels.tsa.holtwinters.model.ExponentialSmoothing'>, 'mape': 0.06708013627194817, 'r2': -1.7838494607750648, 'params': {'trend': 'add', 'damped_trend': True, 'seasonal': 'mul', 'seasonal_periods': 365, 'initialization_method': 'estimated', 'use_boxcox': False}}, 'Exponential Smoothing_12': {'class': <class 'statsmodels.tsa.holtwinters.model.ExponentialSmoothing'>, 'mape': 0.0701294366051028, 'r2': -2.0494611951093593, 'params': {'trend': 'add', 'damped_trend': True, 'seasonal': 'mul', 'seasonal_periods': 365, 'initialization_method': 'estimated', 'use_boxcox': True}}, 'Exponential Smoothing_13': {'class': <class 'statsmodels.tsa.holtwinters.model.ExponentialSmoothing'>, 'mape': 0.038360811345666, 'r2': 0.008877676919859745, 'params': {'trend': 'add', 'damped_trend': True, 'seasonal': 'mul', 'seasonal_periods': 365, 'initialization_method': 'heuristic', 'use_boxcox': False}}, 'Exponential Smoothing_14': {'class': <class 'statsmodels.tsa.holtwinters.model.ExponentialSmoothing'>, 'mape': 0.10508696453826852, 'r2': -5.847453899453641, 'params': {'trend': 'add', 'damped_trend': True, 'seasonal': 'mul', 'seasonal_periods': 365, 'initialization_method': 'heuristic', 'use_boxcox': True}}, 'Exponential Smoothing_15': {'class': <class 'statsmodels.tsa.holtwinters.model.ExponentialSmoothing'>, 'mape': 0.0079300348713607, 'r2': 0.935679622644676, 'params': {'trend': 'add', 'damped_trend': True, 'seasonal': 'mul', 'seasonal_periods': 365, 'initialization_method': None, 'use_boxcox': False}}, 'Exponential Smoothing_16': {'class': <class 'statsmodels.tsa.holtwinters.model.ExponentialSmoothing'>, 'mape': 0.04204767175649949, 'r2': -0.2274239298948857, 'params': {'trend': 'add', 'damped_trend': True, 'seasonal': 'mul', 'seasonal_periods': 365, 'initialization_method': None, 'use_boxcox': True}}, 'Exponential Smoothing_17': {'class': <class 'statsmodels.tsa.holtwinters.model.ExponentialSmoothing'>, 'mape': 0.01980430751641655, 'r2': 0.6843128749566361, 'params': {'trend': 'add', 'damped_trend': False, 'seasonal': 'add', 'seasonal_periods': 365, 'initialization_method': 'legacy-heuristic', 'use_boxcox': False}}, 'Exponential Smoothing_18': {'class': <class 'statsmodels.tsa.holtwinters.model.ExponentialSmoothing'>, 'mape': 0.08053039827814353, 'r2': -3.8055873758810987, 'params': {'trend': 'add', 'damped_trend': False, 'seasonal': 'add', 'seasonal_periods': 365, 'initialization_method': 'legacy-heuristic', 'use_boxcox': True}}, 'Exponential Smoothing_19': {'class': <class 'statsmodels.tsa.holtwinters.model.ExponentialSmoothing'>, 'mape': 0.1753491683717347, 'r2': -20.78567588813878, 'params': {'trend': 'add', 'damped_trend': False, 'seasonal': 'add', 'seasonal_periods': 365, 'initialization_method': 'estimated', 'use_boxcox': False}}, 'Exponential Smoothing_20': {'class': <class 'statsmodels.tsa.holtwinters.model.ExponentialSmoothing'>, 'mape': 0.14489782464547651, 'r2': -13.649908440330023, 'params': {'trend': 'add', 'damped_trend': False, 'seasonal': 'add', 'seasonal_periods': 365, 'initialization_method': 'estimated', 'use_boxcox': True}}, 'Exponential Smoothing_21': {'class': <class 'statsmodels.tsa.holtwinters.model.ExponentialSmoothing'>, 'mape': 0.22797649123512106, 'r2': -36.23832389790316, 'params': {'trend': 'add', 'damped_trend': False, 'seasonal': 'add', 'seasonal_periods': 365, 'initialization_method': 'heuristic', 'use_boxcox': False}}, 'Exponential Smoothing_22': {'class': <class 'statsmodels.tsa.holtwinters.model.ExponentialSmoothing'>, 'mape': 0.23439085947800206, 'r2': -39.04380482932593, 'params': {'trend': 'add', 'damped_trend': False, 'seasonal': 'add', 'seasonal_periods': 365, 'initialization_method': 'heuristic', 'use_boxcox': True}}, 'Exponential Smoothing_23': {'class': <class 'statsmodels.tsa.holtwinters.model.ExponentialSmoothing'>, 'mape': 0.01980430751641655, 'r2': 0.6843128749566361, 'params': {'trend': 'add', 'damped_trend': False, 'seasonal': 'add', 'seasonal_periods': 365, 'initialization_method': None, 'use_boxcox': False}}, 'Exponential Smoothing_24': {'class': <class 'statsmodels.tsa.holtwinters.model.ExponentialSmoothing'>, 'mape': 0.08053039827814353, 'r2': -3.8055873758810987, 'params': {'trend': 'add', 'damped_trend': False, 'seasonal': 'add', 'seasonal_periods': 365, 'initialization_method': None, 'use_boxcox': True}}, 'Exponential Smoothing_25': {'class': <class 'statsmodels.tsa.holtwinters.model.ExponentialSmoothing'>, 'mape': 0.0644380988797864, 'r2': -2.188345315080342, 'params': {'trend': 'add', 'damped_trend': False, 'seasonal': 'mul', 'seasonal_periods': 365, 'initialization_method': 'legacy-heuristic', 'use_boxcox': False}}, 'Exponential Smoothing_26': {'class': <class 'statsmodels.tsa.holtwinters.model.ExponentialSmoothing'>, 'mape': 0.08795917765084682, 'r2': -4.699338343704276, 'params': {'trend': 'add', 'damped_trend': False, 'seasonal': 'mul', 'seasonal_periods': 365, 'initialization_method': 'legacy-heuristic', 'use_boxcox': True}}, 'Exponential Smoothing_27': {'class': <class 'statsmodels.tsa.holtwinters.model.ExponentialSmoothing'>, 'mape': 0.1519110593172037, 'r2': -14.910437448798875, 'params': {'trend': 'add', 'damped_trend': False, 'seasonal': 'mul', 'seasonal_periods': 365, 'initialization_method': 'estimated', 'use_boxcox': False}}, 'Exponential Smoothing_28': {'class': <class 'statsmodels.tsa.holtwinters.model.ExponentialSmoothing'>, 'mape': 0.14002411305444817, 'r2': -12.586930334408192, 'params': {'trend': 'add', 'damped_trend': False, 'seasonal': 'mul', 'seasonal_periods': 365, 'initialization_method': 'estimated', 'use_boxcox': True}}, 'Exponential Smoothing_29': {'class': <class 'statsmodels.tsa.holtwinters.model.ExponentialSmoothing'>, 'mape': 0.20585047439848225, 'r2': -28.64553185565938, 'params': {'trend': 'add', 'damped_trend': False, 'seasonal': 'mul', 'seasonal_periods': 365, 'initialization_method': 'heuristic', 'use_boxcox': False}}, 'Exponential Smoothing_30': {'class': <class 'statsmodels.tsa.holtwinters.model.ExponentialSmoothing'>, 'mape': 0.22796729000699353, 'r2': -36.626452286558624, 'params': {'trend': 'add', 'damped_trend': False, 'seasonal': 'mul', 'seasonal_periods': 365, 'initialization_method': 'heuristic', 'use_boxcox': True}}, 'Exponential Smoothing_31': {'class': <class 'statsmodels.tsa.holtwinters.model.ExponentialSmoothing'>, 'mape': 0.0644380988797864, 'r2': -2.188345315080342, 'params': {'trend': 'add', 'damped_trend': False, 'seasonal': 'mul', 'seasonal_periods': 365, 'initialization_method': None, 'use_boxcox': False}}, 'Exponential Smoothing_32': {'class': <class 'statsmodels.tsa.holtwinters.model.ExponentialSmoothing'>, 'mape': 0.08795917765084682, 'r2': -4.699338343704276, 'params': {'trend': 'add', 'damped_trend': False, 'seasonal': 'mul', 'seasonal_periods': 365, 'initialization_method': None, 'use_boxcox': True}}, 'Exponential Smoothing_33': {'class': <class 'statsmodels.tsa.holtwinters.model.ExponentialSmoothing'>, 'mape': 0.008591247063152096, 'r2': 0.9352604495302387, 'params': {'trend': 'mul', 'damped_trend': True, 'seasonal': 'add', 'seasonal_periods': 365, 'initialization_method': 'legacy-heuristic', 'use_boxcox': False}}, 'Exponential Smoothing_34': {'class': <class 'statsmodels.tsa.holtwinters.model.ExponentialSmoothing'>, 'mape': 0.052818986068471456, 'r2': -0.9645583437880492, 'params': {'trend': 'mul', 'damped_trend': True, 'seasonal': 'add', 'seasonal_periods': 365, 'initialization_method': 'legacy-heuristic', 'use_boxcox': True}}, 'Exponential Smoothing_35': {'class': <class 'statsmodels.tsa.holtwinters.model.ExponentialSmoothing'>, 'mape': 0.13790885246044635, 'r2': -12.89726694959077, 'params': {'trend': 'mul', 'damped_trend': True, 'seasonal': 'add', 'seasonal_periods': 365, 'initialization_method': 'estimated', 'use_boxcox': False}}, 'Exponential Smoothing_36': {'class': <class 'statsmodels.tsa.holtwinters.model.ExponentialSmoothing'>, 'mape': 0.7477921168054593, 'r2': -340.77214569798787, 'params': {'trend': 'mul', 'damped_trend': True, 'seasonal': 'add', 'seasonal_periods': 365, 'initialization_method': 'estimated', 'use_boxcox': True}}, 'Exponential Smoothing_37': {'class': <class 'statsmodels.tsa.holtwinters.model.ExponentialSmoothing'>, 'mape': 0.16991996562747672, 'r2': -18.28003918937156, 'params': {'trend': 'mul', 'damped_trend': True, 'seasonal': 'add', 'seasonal_periods': 365, 'initialization_method': 'heuristic', 'use_boxcox': False}}, 'Exponential Smoothing_38': {'class': <class 'statsmodels.tsa.holtwinters.model.ExponentialSmoothing'>, 'mape': 0.15123742410713525, 'r2': -13.862863367138635, 'params': {'trend': 'mul', 'damped_trend': True, 'seasonal': 'add', 'seasonal_periods': 365, 'initialization_method': 'heuristic', 'use_boxcox': True}}, 'Exponential Smoothing_39': {'class': <class 'statsmodels.tsa.holtwinters.model.ExponentialSmoothing'>, 'mape': 0.008591247063152096, 'r2': 0.9352604495302387, 'params': {'trend': 'mul', 'damped_trend': True, 'seasonal': 'add', 'seasonal_periods': 365, 'initialization_method': None, 'use_boxcox': False}}, 'Exponential Smoothing_40': {'class': <class 'statsmodels.tsa.holtwinters.model.ExponentialSmoothing'>, 'mape': 0.052818986068471456, 'r2': -0.9645583437880492, 'params': {'trend': 'mul', 'damped_trend': True, 'seasonal': 'add', 'seasonal_periods': 365, 'initialization_method': None, 'use_boxcox': True}}, 'Exponential Smoothing_41': {'class': <class 'statsmodels.tsa.holtwinters.model.ExponentialSmoothing'>, 'mape': 0.007936161200135948, 'r2': 0.9355614617644427, 'params': {'trend': 'mul', 'damped_trend': True, 'seasonal': 'mul', 'seasonal_periods': 365, 'initialization_method': 'legacy-heuristic', 'use_boxcox': False}}, 'Exponential Smoothing_42': {'class': <class 'statsmodels.tsa.holtwinters.model.ExponentialSmoothing'>, 'mape': 0.04180629412620141, 'r2': -0.21368355727939758, 'params': {'trend': 'mul', 'damped_trend': True, 'seasonal': 'mul', 'seasonal_periods': 365, 'initialization_method': 'legacy-heuristic', 'use_boxcox': True}}, 'Exponential Smoothing_43': {'class': <class 'statsmodels.tsa.holtwinters.model.ExponentialSmoothing'>, 'mape': 0.07000265704093744, 'r2': -2.0295207034676657, 'params': {'trend': 'mul', 'damped_trend': True, 'seasonal': 'mul', 'seasonal_periods': 365, 'initialization_method': 'estimated', 'use_boxcox': False}}, 'Exponential Smoothing_44': {'class': <class 'statsmodels.tsa.holtwinters.model.ExponentialSmoothing'>, 'mape': 0.07030821796323472, 'r2': -2.064959535487873, 'params': {'trend': 'mul', 'damped_trend': True, 'seasonal': 'mul', 'seasonal_periods': 365, 'initialization_method': 'estimated', 'use_boxcox': True}}, 'Exponential Smoothing_45': {'class': <class 'statsmodels.tsa.holtwinters.model.ExponentialSmoothing'>, 'mape': 0.038481306291817716, 'r2': 0.0032003366752965112, 'params': {'trend': 'mul', 'damped_trend': True, 'seasonal': 'mul', 'seasonal_periods': 365, 'initialization_method': 'heuristic', 'use_boxcox': False}}, 'Exponential Smoothing_46': {'class': <class 'statsmodels.tsa.holtwinters.model.ExponentialSmoothing'>, 'mape': 0.10600436508578087, 'r2': -5.970625642390146, 'params': {'trend': 'mul', 'damped_trend': True, 'seasonal': 'mul', 'seasonal_periods': 365, 'initialization_method': 'heuristic', 'use_boxcox': True}}, 'Exponential Smoothing_47': {'class': <class 'statsmodels.tsa.holtwinters.model.ExponentialSmoothing'>, 'mape': 0.007936161200135948, 'r2': 0.9355614617644427, 'params': {'trend': 'mul', 'damped_trend': True, 'seasonal': 'mul', 'seasonal_periods': 365, 'initialization_method': None, 'use_boxcox': False}}, 'Exponential Smoothing_48': {'class': <class 'statsmodels.tsa.holtwinters.model.ExponentialSmoothing'>, 'mape': 0.04180629412620141, 'r2': -0.21368355727939758, 'params': {'trend': 'mul', 'damped_trend': True, 'seasonal': 'mul', 'seasonal_periods': 365, 'initialization_method': None, 'use_boxcox': True}}, 'Exponential Smoothing_49': {'class': <class 'statsmodels.tsa.holtwinters.model.ExponentialSmoothing'>, 'mape': 0.018946517202147697, 'r2': 0.7117826392019553, 'params': {'trend': 'mul', 'damped_trend': False, 'seasonal': 'add', 'seasonal_periods': 365, 'initialization_method': 'legacy-heuristic', 'use_boxcox': False}}, 'Exponential Smoothing_50': {'class': <class 'statsmodels.tsa.holtwinters.model.ExponentialSmoothing'>, 'mape': 0.07960197504441296, 'r2': -3.6862550950898765, 'params': {'trend': 'mul', 'damped_trend': False, 'seasonal': 'add', 'seasonal_periods': 365, 'initialization_method': 'legacy-heuristic', 'use_boxcox': True}}, 'Exponential Smoothing_51': {'class': <class 'statsmodels.tsa.holtwinters.model.ExponentialSmoothing'>, 'mape': 0.1950181548378058, 'r2': -26.611855343050816, 'params': {'trend': 'mul', 'damped_trend': False, 'seasonal': 'add', 'seasonal_periods': 365, 'initialization_method': 'estimated', 'use_boxcox': False}}, 'Exponential Smoothing_52': {'class': <class 'statsmodels.tsa.holtwinters.model.ExponentialSmoothing'>, 'mape': 0.1514075170474015, 'r2': -15.11430546412458, 'params': {'trend': 'mul', 'damped_trend': False, 'seasonal': 'add', 'seasonal_periods': 365, 'initialization_method': 'estimated', 'use_boxcox': True}}, 'Exponential Smoothing_53': {'class': <class 'statsmodels.tsa.holtwinters.model.ExponentialSmoothing'>, 'mape': 0.257540444315146, 'r2': -48.11517663303168, 'params': {'trend': 'mul', 'damped_trend': False, 'seasonal': 'add', 'seasonal_periods': 365, 'initialization_method': 'heuristic', 'use_boxcox': False}}, 'Exponential Smoothing_54': {'class': <class 'statsmodels.tsa.holtwinters.model.ExponentialSmoothing'>, 'mape': 0.2408813833348753, 'r2': -41.67179317270018, 'params': {'trend': 'mul', 'damped_trend': False, 'seasonal': 'add', 'seasonal_periods': 365, 'initialization_method': 'heuristic', 'use_boxcox': True}}, 'Exponential Smoothing_55': {'class': <class 'statsmodels.tsa.holtwinters.model.ExponentialSmoothing'>, 'mape': 0.018946517202147697, 'r2': 0.7117826392019553, 'params': {'trend': 'mul', 'damped_trend': False, 'seasonal': 'add', 'seasonal_periods': 365, 'initialization_method': None, 'use_boxcox': False}}, 'Exponential Smoothing_56': {'class': <class 'statsmodels.tsa.holtwinters.model.ExponentialSmoothing'>, 'mape': 0.07960197504441296, 'r2': -3.6862550950898765, 'params': {'trend': 'mul', 'damped_trend': False, 'seasonal': 'add', 'seasonal_periods': 365, 'initialization_method': None, 'use_boxcox': True}}, 'Exponential Smoothing_57': {'class': <class 'statsmodels.tsa.holtwinters.model.ExponentialSmoothing'>, 'mape': 0.0607973355541529, 'r2': -1.8102738912754313, 'params': {'trend': 'mul', 'damped_trend': False, 'seasonal': 'mul', 'seasonal_periods': 365, 'initialization_method': 'legacy-heuristic', 'use_boxcox': False}}, 'Exponential Smoothing_58': {'class': <class 'statsmodels.tsa.holtwinters.model.ExponentialSmoothing'>, 'mape': 0.08689479435360223, 'r2': -4.550608705543359, 'params': {'trend': 'mul', 'damped_trend': False, 'seasonal': 'mul', 'seasonal_periods': 365, 'initialization_method': 'legacy-heuristic', 'use_boxcox': True}}, 'Exponential Smoothing_59': {'class': <class 'statsmodels.tsa.holtwinters.model.ExponentialSmoothing'>, 'mape': 0.160635554451207, 'r2': -17.14198035337201, 'params': {'trend': 'mul', 'damped_trend': False, 'seasonal': 'mul', 'seasonal_periods': 365, 'initialization_method': 'estimated', 'use_boxcox': False}}, 'Exponential Smoothing_60': {'class': <class 'statsmodels.tsa.holtwinters.model.ExponentialSmoothing'>, 'mape': 0.1445334407071651, 'r2': -13.564361508806167, 'params': {'trend': 'mul', 'damped_trend': False, 'seasonal': 'mul', 'seasonal_periods': 365, 'initialization_method': 'estimated', 'use_boxcox': True}}, 'Exponential Smoothing_61': {'class': <class 'statsmodels.tsa.holtwinters.model.ExponentialSmoothing'>, 'mape': 0.23120623124927886, 'r2': -37.60796063833347, 'params': {'trend': 'mul', 'damped_trend': False, 'seasonal': 'mul', 'seasonal_periods': 365, 'initialization_method': 'heuristic', 'use_boxcox': False}}, 'Exponential Smoothing_62': {'class': <class 'statsmodels.tsa.holtwinters.model.ExponentialSmoothing'>, 'mape': 0.23417510930545374, 'r2': -39.053332022459145, 'params': {'trend': 'mul', 'damped_trend': False, 'seasonal': 'mul', 'seasonal_periods': 365, 'initialization_method': 'heuristic', 'use_boxcox': True}}, 'Exponential Smoothing_63': {'class': <class 'statsmodels.tsa.holtwinters.model.ExponentialSmoothing'>, 'mape': 0.0607973355541529, 'r2': -1.8102738912754313, 'params': {'trend': 'mul', 'damped_trend': False, 'seasonal': 'mul', 'seasonal_periods': 365, 'initialization_method': None, 'use_boxcox': False}}, 'Exponential Smoothing_64': {'class': <class 'statsmodels.tsa.holtwinters.model.ExponentialSmoothing'>, 'mape': 0.08689479435360223, 'r2': -4.550608705543359, 'params': {'trend': 'mul', 'damped_trend': False, 'seasonal': 'mul', 'seasonal_periods': 365, 'initialization_method': None, 'use_boxcox': True}}, 'SARIMAX_65': {'class': <class 'statsmodels.tsa.statespace.sarimax.SARIMAX'>, 'mape': 0.05063245131336656, 'r2': -1.2512628812533046, 'params': {'trend': 'mul', 'damped_trend': False, 'seasonal': 'mul', 'seasonal_periods': 365, 'initialization_method': None, 'use_boxcox': True}}}\n"
     ]
    }
   ],
   "source": [
    "print(report)"
   ]
  },
  {
   "cell_type": "code",
   "execution_count": null,
   "id": "4d786dfa",
   "metadata": {},
   "outputs": [],
   "source": []
  },
  {
   "cell_type": "code",
   "execution_count": 20,
   "id": "a6d80d8b",
   "metadata": {},
   "outputs": [
    {
     "name": "stdout",
     "output_type": "stream",
     "text": [
      "Best model: <class 'statsmodels.tsa.holtwinters.model.ExponentialSmoothing'>, Best model score: 0.0079300348713607, Best model params: {'trend': 'add', 'damped_trend': True, 'seasonal': 'mul', 'seasonal_periods': 365, 'initialization_method': 'legacy-heuristic', 'use_boxcox': False}\n"
     ]
    }
   ],
   "source": [
    "best_model_score=min(report.items(), key=lambda x: x[1]['mape'])[1]['mape']\n",
    "best_model= min(report.items(), key=lambda x: x[1]['mape'])[1]['class']\n",
    "#save the best model and parameters  as an object\n",
    "best_model_params = min(report.items(), key=lambda x: x[1]['mape'])[1]['params']\n",
    "\n",
    "print(f\"Best model: {best_model}, Best model score: {best_model_score}, Best model params: {best_model_params}\")    "
   ]
  },
  {
   "cell_type": "code",
   "execution_count": 22,
   "id": "1024ce5d",
   "metadata": {},
   "outputs": [],
   "source": [
    "best_model_instance = best_model(train_data, **best_model_params)\n",
    "best_model_fit = best_model_instance.fit()\n"
   ]
  },
  {
   "cell_type": "code",
   "execution_count": 23,
   "id": "3543a594",
   "metadata": {},
   "outputs": [
    {
     "data": {
      "text/html": [
       "<div>\n",
       "<style scoped>\n",
       "    .dataframe tbody tr th:only-of-type {\n",
       "        vertical-align: middle;\n",
       "    }\n",
       "\n",
       "    .dataframe tbody tr th {\n",
       "        vertical-align: top;\n",
       "    }\n",
       "\n",
       "    .dataframe thead th {\n",
       "        text-align: right;\n",
       "    }\n",
       "</style>\n",
       "<table border=\"1\" class=\"dataframe\">\n",
       "  <thead>\n",
       "    <tr style=\"text-align: right;\">\n",
       "      <th></th>\n",
       "      <th>Prices</th>\n",
       "    </tr>\n",
       "    <tr>\n",
       "      <th>Dates</th>\n",
       "      <th></th>\n",
       "    </tr>\n",
       "  </thead>\n",
       "  <tbody>\n",
       "    <tr>\n",
       "      <th>2024-09-30</th>\n",
       "      <td>12.791038</td>\n",
       "    </tr>\n",
       "    <tr>\n",
       "      <th>2024-10-01</th>\n",
       "      <td>12.779744</td>\n",
       "    </tr>\n",
       "    <tr>\n",
       "      <th>2024-10-02</th>\n",
       "      <td>12.769866</td>\n",
       "    </tr>\n",
       "    <tr>\n",
       "      <th>2024-10-03</th>\n",
       "      <td>12.760408</td>\n",
       "    </tr>\n",
       "    <tr>\n",
       "      <th>2024-10-04</th>\n",
       "      <td>12.751198</td>\n",
       "    </tr>\n",
       "    <tr>\n",
       "      <th>...</th>\n",
       "      <td>...</td>\n",
       "    </tr>\n",
       "    <tr>\n",
       "      <th>2025-09-25</th>\n",
       "      <td>12.552453</td>\n",
       "    </tr>\n",
       "    <tr>\n",
       "      <th>2025-09-26</th>\n",
       "      <td>12.578434</td>\n",
       "    </tr>\n",
       "    <tr>\n",
       "      <th>2025-09-27</th>\n",
       "      <td>12.604415</td>\n",
       "    </tr>\n",
       "    <tr>\n",
       "      <th>2025-09-28</th>\n",
       "      <td>12.630396</td>\n",
       "    </tr>\n",
       "    <tr>\n",
       "      <th>2025-09-29</th>\n",
       "      <td>12.656382</td>\n",
       "    </tr>\n",
       "  </tbody>\n",
       "</table>\n",
       "<p>365 rows × 1 columns</p>\n",
       "</div>"
      ],
      "text/plain": [
       "               Prices\n",
       "Dates                \n",
       "2024-09-30  12.791038\n",
       "2024-10-01  12.779744\n",
       "2024-10-02  12.769866\n",
       "2024-10-03  12.760408\n",
       "2024-10-04  12.751198\n",
       "...               ...\n",
       "2025-09-25  12.552453\n",
       "2025-09-26  12.578434\n",
       "2025-09-27  12.604415\n",
       "2025-09-28  12.630396\n",
       "2025-09-29  12.656382\n",
       "\n",
       "[365 rows x 1 columns]"
      ]
     },
     "execution_count": 23,
     "metadata": {},
     "output_type": "execute_result"
    }
   ],
   "source": [
    "from statsmodels.tsa.holtwinters import ExponentialSmoothing\n",
    "\n",
    "\n",
    "#Generate future dates for the next year (12 months)\n",
    "future_dates1=pd.date_range(start=df_interpolated.index[-1],periods=365,freq='d')\n",
    "\n",
    "#Forecast future prices for 12 months\n",
    "future_prices1=best_model_fit.forecast(steps=365)\n",
    "\n",
    "#create a dataframe for future prices\n",
    "future_df1=pd.DataFrame({'Dates':future_dates1, 'Prices':future_prices1})\n",
    "future_df1.set_index('Dates',inplace=True)\n",
    "\n",
    "future_df1"
   ]
  },
  {
   "cell_type": "code",
   "execution_count": 25,
   "id": "0e6f9ec5",
   "metadata": {},
   "outputs": [
    {
     "data": {
      "image/png": "[encoded data removed]",
      "text/plain": [
       "<Figure size 1200x600 with 1 Axes>"
      ]
     },
     "metadata": {},
     "output_type": "display_data"
    }
   ],
   "source": [
    "#plot predictions against actual prices\n",
    "import matplotlib.pyplot as plt\n",
    "\n",
    "plt.figure(figsize=(12, 6))\n",
    "#plt.plot(train_data.index, train_data['Prices'], label='Train Data')\n",
    "plt.plot(df_interpolated.index, df_interpolated['Prices'], label='Past Data')\n",
    "plt.plot(future_df1.index, future_df1['Prices'], label='Future Prices', color='red')\n",
    "plt.legend()\n",
    "plt.title('Gas Prices: Past vs Future')\n",
    "plt.show()"
   ]
  },
  {
   "cell_type": "code",
   "execution_count": 29,
   "id": "6b38f0ea",
   "metadata": {},
   "outputs": [
    {
     "data": {
      "image/png": "[encoded data removed]",
      "text/plain": [
       "<Figure size 1200x600 with 1 Axes>"
      ]
     },
     "metadata": {},
     "output_type": "display_data"
    }
   ],
   "source": [
    "#plot predictions against actual prices\n",
    "import matplotlib.pyplot as plt\n",
    "\n",
    "plt.figure(figsize=(12, 6))\n",
    "#plt.plot(train_data.index, train_data['Prices'], label='Train Data')\n",
    "plt.plot(test_data.index, test_data, label='Test Data')\n",
    "plt.plot(future_df1.index, future_df1, label='Predicted Prices', color='red')\n",
    "plt.legend()\n",
    "plt.title('Gas Prices: Actual vs Predicted')\n",
    "plt.show()"
   ]
  },
  {
   "cell_type": "markdown",
   "id": "391ff207",
   "metadata": {},
   "source": [
    "### Price a commodity storage contract"
   ]
  },
  {
   "cell_type": "markdown",
   "id": "14122499",
   "metadata": {},
   "source": [
    "#Natural gas contract price\n",
    "\n",
    "value=selling_price-purchase_price-cost\n",
    "\n",
    "selling_price=sell_price*gas_volume =p*x\n",
    "\n",
    "purchase_price_cost=gas_volume*purchase_price=l*x\n",
    "\n",
    "cost=storage_cost +injection_withdrawal_cost+transportation_cost=(g*x)+w+t\n",
    "\n",
    "storage_cost=storage_fees* storage_months\n",
    "\n",
    "injection_withdrawal_cost= injection_withdrawal_fees*injection_withrdawl_times\n",
    "\n",
    "gas_volume<max_storage_volume \n"
   ]
  },
  {
   "cell_type": "markdown",
   "id": "206d7d3a",
   "metadata": {},
   "source": [
    "columns/features:\n",
    "\n",
    "injection_date,\tgas_purchase_price_per_unit, entered_amount_(unit),\twithdrawl_date,\tgas_selling_price_per_unit,\twithdrawn_amount_(unit),\tinjection_withdrawal_fees,\tstorage_fees_(fixed_per_month),\tstorage_period_(w-i)_in_months,\tstorage_max_vol_(fixed_units),\ttransportation_fees_(fixed),\tFinal Price \t\n",
    "\n",
    "If this is just one transaction:\n",
    "\n",
    "Value= (gas_selling_price_per_unit * withdrawn_amount_(unit)) - (gas_purchase_price_per_unit * entered_amount_(unit)) - injection_withdrawal_fees - ((withdrawl_date - injection_date ) * storage_fees ) - transportation_fees_\n",
    "\n",
    "\n",
    "If this is just several transactions (this is added everytime a withdrawal happens till withdrawal amount = injected amount)\n",
    "\n",
    "Value= (gas_selling_price_per_unit * withdrawn_amount_(unit)) - (gas_purchase_price_per_unit * withdrawn_amount_(unit)) - injection_withdrawal_fees - ((withdrawl_date - injection_date ) * storage_fees ) - transportation_fees_\n",
    "\n"
   ]
  },
  {
   "cell_type": "code",
   "execution_count": 68,
   "id": "ea6f927c",
   "metadata": {},
   "outputs": [],
   "source": [
    "import datetime \n",
    "from datetime import date\n",
    "\n",
    "def contract_price (injection_dates,purchase_prices, injected_amounts, withdrawal_dates, selling_prices, withdrawal_amounts, injection_withdrawal_rate, storage_rate, storage_max_amount, transportation_rate):\n",
    "\n",
    "    volume=0\n",
    "    purchase_cost=0\n",
    "    value=0\n",
    "\n",
    "\n",
    "    injection_dates = [pd.to_datetime(d) for d in injection_dates]\n",
    "    withdrawal_dates = [pd.to_datetime(d) for d in withdrawal_dates]\n",
    "    dates = sorted(injection_dates + withdrawal_dates)\n",
    "\n",
    "\n",
    "    for i in range(len(dates)):\n",
    "\n",
    "        if dates[i] in injection_dates:\n",
    "            volume+=injected_amounts[injection_dates.index(dates[i])]\n",
    "            if volume > storage_max_amount:\n",
    "                print(\"Error, cant inject amount in the storage its more than the storage capacity!\")\n",
    "            else:\n",
    "                purchase_cost+=(injected_amounts[injection_dates.index(dates[i])] * purchase_prices[injection_dates.index(dates[i])])\n",
    "                recent_injection_date=dates[i]\n",
    "                i+=1\n",
    "        if dates[i] in withdrawal_dates:\n",
    "            if volume==0 or volume <withdrawal_amounts[withdrawal_dates.index(dates[i])]:\n",
    "                print(\"Error, There is no enough quantity to withdraw!, please adjust the withdrawal quantity.\")\n",
    "            else:\n",
    "                selling=selling_prices[withdrawal_dates.index(dates[i])] * withdrawal_amounts [withdrawal_dates.index(dates[i])]\n",
    "                storage_period= (dates[i] - recent_injection_date).days //30\n",
    "                storage_cost=storage_rate * storage_period\n",
    "                value+=selling-storage_cost-transportation_rate-injection_withdrawal_rate\n",
    "\n",
    "    final_value=  value - purchase_cost  \n",
    "    return final_value   \n",
    "            \n"
   ]
  },
  {
   "cell_type": "code",
   "execution_count": 69,
   "id": "d45d7381",
   "metadata": {},
   "outputs": [],
   "source": [
    "\n",
    "\n",
    "injection_dates= [\"2024-06-01\", \"2024-05-04\", \"2024-04-01\", \"2024-07-01\"] \n",
    "purchase_prices =[20, 21, 20.5, 22]\n",
    "injected_amounts=[10000,5000,10000,1000]\n",
    "withdrawal_dates=[\"2024-12-01\", \"2024-12-15\", \"2024-11-01\", \"2024-11-15\"] \n",
    "selling_prices=[23, 19, 21, 25] \n",
    "withdrawal_amounts=[1000,5000,10000,10000]\n",
    "injection_withdrawal_rate=0.0005  \n",
    "storage_rate=10000  \n",
    "storage_max_amount=500000 \n",
    "transportation_rate=1000\n"
   ]
  },
  {
   "cell_type": "code",
   "execution_count": 75,
   "id": "acb19792",
   "metadata": {},
   "outputs": [
    {
     "name": "stdout",
     "output_type": "stream",
     "text": [
      "Contract value: 31000.0\n"
     ]
    }
   ],
   "source": [
    "result = contract_price(\n",
    "\tinjection_dates,\n",
    "\tpurchase_prices,\n",
    "\tinjected_amounts,\n",
    "\twithdrawal_dates,\n",
    "\tselling_prices,\n",
    "\twithdrawal_amounts,\n",
    "\tinjection_withdrawal_rate,\n",
    "\tstorage_rate,\n",
    "\tstorage_max_amount,\n",
    "\ttransportation_rate\n",
    ")\n",
    "print(\"Contract value:\", round(result,2))"
   ]
  }
 ],
 "metadata": {
  "kernelspec": {
   "display_name": "quant",
   "language": "python",
   "name": "python3"
  },
  "language_info": {
   "codemirror_mode": {
    "name": "ipython",
    "version": 3
   },
   "file_extension": ".py",
   "mimetype": "text/x-python",
   "name": "python",
   "nbconvert_exporter": "python",
   "pygments_lexer": "ipython3",
   "version": "3.11.13"
  }
 },
 "nbformat": 4,
 "nbformat_minor": 5
}
