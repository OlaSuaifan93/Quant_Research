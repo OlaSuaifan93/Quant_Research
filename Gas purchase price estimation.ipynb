{
 "cells": [
  {
   "cell_type": "code",
   "execution_count": null,
   "id": "0934fa82",
   "metadata": {},
   "outputs": [],
   "source": [
    "import numpy as np\n",
    "import pandas as pd\n"
   ]
  },
  {
   "cell_type": "code",
   "execution_count": null,
   "id": "a5f1bddf",
   "metadata": {},
   "outputs": [],
   "source": [
    "df=pd.read_csv('Nat_Gas.csv')\n",
    "df.head()"
   ]
  },
  {
   "cell_type": "code",
   "execution_count": null,
   "id": "74757b23",
   "metadata": {},
   "outputs": [],
   "source": [
    "df.info()"
   ]
  },
  {
   "cell_type": "code",
   "execution_count": null,
   "id": "ed55d87b",
   "metadata": {},
   "outputs": [],
   "source": [
    "df.describe()"
   ]
  },
  {
   "cell_type": "code",
   "execution_count": null,
   "id": "81d1aad4",
   "metadata": {},
   "outputs": [],
   "source": [
    "df['Dates']=pd.to_datetime(df['Dates'])"
   ]
  },
  {
   "cell_type": "code",
   "execution_count": null,
   "id": "0974e307",
   "metadata": {},
   "outputs": [],
   "source": [
    "import plotly.express as px\n"
   ]
  },
  {
   "cell_type": "code",
   "execution_count": null,
   "id": "192689b9",
   "metadata": {},
   "outputs": [],
   "source": [
    "fig=px.line(df,x='Dates',y='Prices',title='Natural Gas Prices')\n",
    "fig.show()"
   ]
  },
  {
   "cell_type": "markdown",
   "id": "98be18e2",
   "metadata": {},
   "source": [
    "i can see that there is a seasonality where the prices go up in december, january, feb and march and it starts going down where there is also a repetitive behavior where it goes to the minimum in may, jun, july and august and then starts to go up again\n",
    "\n",
    "i also notice an upward trend on the whole timeline where the prices are actually going up within the four years. \n"
   ]
  },
  {
   "cell_type": "markdown",
   "id": "93b76c7f",
   "metadata": {},
   "source": [
    "# Natural Gas purchase price estimation"
   ]
  },
  {
   "cell_type": "markdown",
   "id": "c2d43cf8",
   "metadata": {},
   "source": [
    "1- set date as index for time series interpolation \n",
    "\n"
   ]
  },
  {
   "cell_type": "code",
   "execution_count": null,
   "id": "3adef4dd",
   "metadata": {},
   "outputs": [],
   "source": [
    "df.set_index('Dates',inplace=True)\n"
   ]
  },
  {
   "cell_type": "markdown",
   "id": "9e647f10",
   "metadata": {},
   "source": [
    "2- Interpolating the price data for any missing date between the given monthly prices \n"
   ]
  },
  {
   "cell_type": "code",
   "execution_count": null,
   "id": "47f44889",
   "metadata": {},
   "outputs": [],
   "source": [
    "df_interpolated=df.resample('D').interpolate('linear')"
   ]
  },
  {
   "cell_type": "code",
   "execution_count": null,
   "id": "f7ec27eb",
   "metadata": {},
   "outputs": [],
   "source": [
    "df_interpolated"
   ]
  },
  {
   "cell_type": "markdown",
   "id": "d58add15",
   "metadata": {},
   "source": [
    "# Extrapolate future prices using a simple time series model "
   ]
  },
  {
   "cell_type": "code",
   "execution_count": null,
   "id": "fc441ba5",
   "metadata": {},
   "outputs": [],
   "source": [
    "from statsmodels.tsa.holtwinters import ExponentialSmoothing\n",
    "\n",
    "#train a simple time series model to predict future prices \n",
    "model=ExponentialSmoothing(df_interpolated['Prices'], trend='add', seasonal='add',seasonal_periods=365)\n",
    "model_fit=model.fit()\n",
    "\n",
    "#Generate future dates for the next year (12 months)\n",
    "future_dates=pd.date_range(start=df_interpolated.index[-1],periods=365,freq='d')\n",
    "\n",
    "#Forecast future prices for 12 months\n",
    "future_prices=model_fit.forecast(steps=365)\n",
    "\n",
    "#create a dataframe for future prices\n",
    "future_df=pd.DataFrame({'Dates':future_dates, 'Prices':future_prices})\n",
    "future_df.set_index('Dates',inplace=True)\n",
    "\n",
    "future_df"
   ]
  },
  {
   "cell_type": "code",
   "execution_count": null,
   "id": "941b7f04",
   "metadata": {},
   "outputs": [],
   "source": [
    "def estimate_gas_price(input_date):\n",
    "    \n",
    "    #check if date is in the past or present\n",
    "    if input_date in df_interpolated.index:\n",
    "        return df_interpolated.loc[input_date]['Prices']\n",
    "    \n",
    "    #check if the date is in the future (within the extrapolated range )\n",
    "    elif input_date in future_df.index:\n",
    "        return future_df.loc[input_date]['Prices']\n",
    "    else:\n",
    "        return \"Date is out of range for estimation\"\n",
    "    "
   ]
  },
  {
   "cell_type": "code",
   "execution_count": null,
   "id": "4a3ea8f2",
   "metadata": {},
   "outputs": [],
   "source": [
    "input_date='2024-10-30'\n",
    "price_estimate=estimate_gas_price(input_date)\n",
    "print(f\"Estimated price on {input_date}: {price_estimate}\")"
   ]
  },
  {
   "cell_type": "code",
   "execution_count": null,
   "id": "e7663bb1",
   "metadata": {},
   "outputs": [],
   "source": []
  }
 ],
 "metadata": {
  "kernelspec": {
   "display_name": "Python 3 (ipykernel)",
   "language": "python",
   "name": "python3"
  },
  "language_info": {
   "codemirror_mode": {
    "name": "ipython",
    "version": 3
   },
   "file_extension": ".py",
   "mimetype": "text/x-python",
   "name": "python",
   "nbconvert_exporter": "python",
   "pygments_lexer": "ipython3",
   "version": "3.9.13"
  }
 },
 "nbformat": 4,
 "nbformat_minor": 5
}
